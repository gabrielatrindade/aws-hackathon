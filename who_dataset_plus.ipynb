{
 "cells": [
  {
   "cell_type": "markdown",
   "metadata": {},
   "source": [
    "# <h1><center>WHO - World Health Organization</center></h1>\n",
    "\n",
    "In this case I used the WHO dataset plus a dataset with median age by country and population by country"
   ]
  },
  {
   "cell_type": "code",
   "execution_count": 1,
   "metadata": {},
   "outputs": [],
   "source": [
    "import pandas as pd\n",
    "from datetime import datetime, timedelta\n",
    "import seaborn as sns\n",
    "import matplotlib.pyplot as plt\n",
    "plt.style.use('bmh')"
   ]
  },
  {
   "cell_type": "markdown",
   "metadata": {},
   "source": [
    "## 1. Getting the datasets"
   ]
  },
  {
   "cell_type": "markdown",
   "metadata": {},
   "source": [
    "### covid dataset"
   ]
  },
  {
   "cell_type": "code",
   "execution_count": 2,
   "metadata": {
    "scrolled": true
   },
   "outputs": [
    {
     "data": {
      "text/html": [
       "<div>\n",
       "<style scoped>\n",
       "    .dataframe tbody tr th:only-of-type {\n",
       "        vertical-align: middle;\n",
       "    }\n",
       "\n",
       "    .dataframe tbody tr th {\n",
       "        vertical-align: top;\n",
       "    }\n",
       "\n",
       "    .dataframe thead th {\n",
       "        text-align: right;\n",
       "    }\n",
       "</style>\n",
       "<table border=\"1\" class=\"dataframe\">\n",
       "  <thead>\n",
       "    <tr style=\"text-align: right;\">\n",
       "      <th></th>\n",
       "      <th>Date_reported</th>\n",
       "      <th>Country_code</th>\n",
       "      <th>Country</th>\n",
       "      <th>WHO_region</th>\n",
       "      <th>New_cases</th>\n",
       "      <th>Cumulative_cases</th>\n",
       "      <th>New_deaths</th>\n",
       "      <th>Cumulative_deaths</th>\n",
       "    </tr>\n",
       "  </thead>\n",
       "  <tbody>\n",
       "    <tr>\n",
       "      <th>0</th>\n",
       "      <td>2020-02-24</td>\n",
       "      <td>AF</td>\n",
       "      <td>Afghanistan</td>\n",
       "      <td>EMRO</td>\n",
       "      <td>5</td>\n",
       "      <td>5</td>\n",
       "      <td>0</td>\n",
       "      <td>0</td>\n",
       "    </tr>\n",
       "    <tr>\n",
       "      <th>1</th>\n",
       "      <td>2020-02-25</td>\n",
       "      <td>AF</td>\n",
       "      <td>Afghanistan</td>\n",
       "      <td>EMRO</td>\n",
       "      <td>0</td>\n",
       "      <td>5</td>\n",
       "      <td>0</td>\n",
       "      <td>0</td>\n",
       "    </tr>\n",
       "    <tr>\n",
       "      <th>2</th>\n",
       "      <td>2020-02-26</td>\n",
       "      <td>AF</td>\n",
       "      <td>Afghanistan</td>\n",
       "      <td>EMRO</td>\n",
       "      <td>0</td>\n",
       "      <td>5</td>\n",
       "      <td>0</td>\n",
       "      <td>0</td>\n",
       "    </tr>\n",
       "    <tr>\n",
       "      <th>3</th>\n",
       "      <td>2020-02-27</td>\n",
       "      <td>AF</td>\n",
       "      <td>Afghanistan</td>\n",
       "      <td>EMRO</td>\n",
       "      <td>0</td>\n",
       "      <td>5</td>\n",
       "      <td>0</td>\n",
       "      <td>0</td>\n",
       "    </tr>\n",
       "    <tr>\n",
       "      <th>4</th>\n",
       "      <td>2020-02-28</td>\n",
       "      <td>AF</td>\n",
       "      <td>Afghanistan</td>\n",
       "      <td>EMRO</td>\n",
       "      <td>0</td>\n",
       "      <td>5</td>\n",
       "      <td>0</td>\n",
       "      <td>0</td>\n",
       "    </tr>\n",
       "  </tbody>\n",
       "</table>\n",
       "</div>"
      ],
      "text/plain": [
       "  Date_reported  Country_code      Country  WHO_region   New_cases  \\\n",
       "0    2020-02-24            AF  Afghanistan        EMRO           5   \n",
       "1    2020-02-25            AF  Afghanistan        EMRO           0   \n",
       "2    2020-02-26            AF  Afghanistan        EMRO           0   \n",
       "3    2020-02-27            AF  Afghanistan        EMRO           0   \n",
       "4    2020-02-28            AF  Afghanistan        EMRO           0   \n",
       "\n",
       "    Cumulative_cases   New_deaths   Cumulative_deaths  \n",
       "0                  5            0                   0  \n",
       "1                  5            0                   0  \n",
       "2                  5            0                   0  \n",
       "3                  5            0                   0  \n",
       "4                  5            0                   0  "
      ]
     },
     "execution_count": 2,
     "metadata": {},
     "output_type": "execute_result"
    }
   ],
   "source": [
    "url_covid = 'https://covid19.who.int/WHO-COVID-19-global-data.csv'\n",
    "\n",
    "covid = pd.read_csv(url_covid)\n",
    "covid.head()"
   ]
  },
  {
   "cell_type": "markdown",
   "metadata": {},
   "source": [
    "### median_age dataset"
   ]
  },
  {
   "cell_type": "code",
   "execution_count": 3,
   "metadata": {},
   "outputs": [
    {
     "data": {
      "text/html": [
       "<div>\n",
       "<style scoped>\n",
       "    .dataframe tbody tr th:only-of-type {\n",
       "        vertical-align: middle;\n",
       "    }\n",
       "\n",
       "    .dataframe tbody tr th {\n",
       "        vertical-align: top;\n",
       "    }\n",
       "\n",
       "    .dataframe thead th {\n",
       "        text-align: right;\n",
       "    }\n",
       "</style>\n",
       "<table border=\"1\" class=\"dataframe\">\n",
       "  <thead>\n",
       "    <tr style=\"text-align: right;\">\n",
       "      <th></th>\n",
       "      <th>Index</th>\n",
       "      <th>Variant</th>\n",
       "      <th>Region, subregion, country or area *</th>\n",
       "      <th>Notes</th>\n",
       "      <th>Country code</th>\n",
       "      <th>Type</th>\n",
       "      <th>Parent code</th>\n",
       "      <th>1950</th>\n",
       "      <th>1955</th>\n",
       "      <th>1960</th>\n",
       "      <th>...</th>\n",
       "      <th>1975</th>\n",
       "      <th>1980</th>\n",
       "      <th>1985</th>\n",
       "      <th>1990</th>\n",
       "      <th>1995</th>\n",
       "      <th>2000</th>\n",
       "      <th>2005</th>\n",
       "      <th>2010</th>\n",
       "      <th>2015</th>\n",
       "      <th>2020</th>\n",
       "    </tr>\n",
       "  </thead>\n",
       "  <tbody>\n",
       "    <tr>\n",
       "      <th>0</th>\n",
       "      <td>1</td>\n",
       "      <td>Estimates</td>\n",
       "      <td>WORLD</td>\n",
       "      <td>NaN</td>\n",
       "      <td>900</td>\n",
       "      <td>World</td>\n",
       "      <td>0</td>\n",
       "      <td>23.5694</td>\n",
       "      <td>23.106</td>\n",
       "      <td>22.6478</td>\n",
       "      <td>...</td>\n",
       "      <td>21.8691</td>\n",
       "      <td>22.5853</td>\n",
       "      <td>23.3071</td>\n",
       "      <td>24.046</td>\n",
       "      <td>25.1395</td>\n",
       "      <td>26.3357</td>\n",
       "      <td>27.4172</td>\n",
       "      <td>28.4767</td>\n",
       "      <td>29.5918</td>\n",
       "      <td>30.904</td>\n",
       "    </tr>\n",
       "    <tr>\n",
       "      <th>1</th>\n",
       "      <td>2</td>\n",
       "      <td>Estimates</td>\n",
       "      <td>UN development groups</td>\n",
       "      <td>a</td>\n",
       "      <td>1803</td>\n",
       "      <td>Label/Separator</td>\n",
       "      <td>900</td>\n",
       "      <td>...</td>\n",
       "      <td>...</td>\n",
       "      <td>...</td>\n",
       "      <td>...</td>\n",
       "      <td>...</td>\n",
       "      <td>...</td>\n",
       "      <td>...</td>\n",
       "      <td>...</td>\n",
       "      <td>...</td>\n",
       "      <td>...</td>\n",
       "      <td>...</td>\n",
       "      <td>...</td>\n",
       "      <td>...</td>\n",
       "      <td>...</td>\n",
       "    </tr>\n",
       "    <tr>\n",
       "      <th>2</th>\n",
       "      <td>3</td>\n",
       "      <td>Estimates</td>\n",
       "      <td>More developed regions</td>\n",
       "      <td>b</td>\n",
       "      <td>901</td>\n",
       "      <td>Development Group</td>\n",
       "      <td>1803</td>\n",
       "      <td>28.4891</td>\n",
       "      <td>28.9703</td>\n",
       "      <td>29.5268</td>\n",
       "      <td>...</td>\n",
       "      <td>30.9217</td>\n",
       "      <td>31.8945</td>\n",
       "      <td>33.0649</td>\n",
       "      <td>34.3612</td>\n",
       "      <td>35.7717</td>\n",
       "      <td>37.2852</td>\n",
       "      <td>38.6758</td>\n",
       "      <td>39.8549</td>\n",
       "      <td>40.9719</td>\n",
       "      <td>41.9935</td>\n",
       "    </tr>\n",
       "    <tr>\n",
       "      <th>3</th>\n",
       "      <td>4</td>\n",
       "      <td>Estimates</td>\n",
       "      <td>Less developed regions</td>\n",
       "      <td>c</td>\n",
       "      <td>902</td>\n",
       "      <td>Development Group</td>\n",
       "      <td>1803</td>\n",
       "      <td>21.4237</td>\n",
       "      <td>20.6506</td>\n",
       "      <td>19.9874</td>\n",
       "      <td>...</td>\n",
       "      <td>19.2806</td>\n",
       "      <td>19.9483</td>\n",
       "      <td>20.8497</td>\n",
       "      <td>21.7603</td>\n",
       "      <td>22.9302</td>\n",
       "      <td>24.1063</td>\n",
       "      <td>25.1627</td>\n",
       "      <td>26.4087</td>\n",
       "      <td>27.7267</td>\n",
       "      <td>29.0419</td>\n",
       "    </tr>\n",
       "    <tr>\n",
       "      <th>4</th>\n",
       "      <td>5</td>\n",
       "      <td>Estimates</td>\n",
       "      <td>Least developed countries</td>\n",
       "      <td>d</td>\n",
       "      <td>941</td>\n",
       "      <td>Development Group</td>\n",
       "      <td>902</td>\n",
       "      <td>19.296</td>\n",
       "      <td>19.078</td>\n",
       "      <td>18.7468</td>\n",
       "      <td>...</td>\n",
       "      <td>17.6875</td>\n",
       "      <td>17.5265</td>\n",
       "      <td>17.4498</td>\n",
       "      <td>17.5614</td>\n",
       "      <td>17.8808</td>\n",
       "      <td>18.1846</td>\n",
       "      <td>18.5901</td>\n",
       "      <td>18.9762</td>\n",
       "      <td>19.5242</td>\n",
       "      <td>20.2911</td>\n",
       "    </tr>\n",
       "  </tbody>\n",
       "</table>\n",
       "<p>5 rows × 22 columns</p>\n",
       "</div>"
      ],
      "text/plain": [
       "   Index    Variant Region, subregion, country or area * Notes  Country code  \\\n",
       "0      1  Estimates                                WORLD   NaN           900   \n",
       "1      2  Estimates                UN development groups     a          1803   \n",
       "2      3  Estimates               More developed regions     b           901   \n",
       "3      4  Estimates               Less developed regions     c           902   \n",
       "4      5  Estimates            Least developed countries     d           941   \n",
       "\n",
       "                Type  Parent code     1950     1955     1960   ...     \\\n",
       "0              World            0  23.5694   23.106  22.6478   ...      \n",
       "1    Label/Separator          900      ...      ...      ...   ...      \n",
       "2  Development Group         1803  28.4891  28.9703  29.5268   ...      \n",
       "3  Development Group         1803  21.4237  20.6506  19.9874   ...      \n",
       "4  Development Group          902   19.296   19.078  18.7468   ...      \n",
       "\n",
       "      1975     1980     1985     1990     1995     2000     2005     2010  \\\n",
       "0  21.8691  22.5853  23.3071   24.046  25.1395  26.3357  27.4172  28.4767   \n",
       "1      ...      ...      ...      ...      ...      ...      ...      ...   \n",
       "2  30.9217  31.8945  33.0649  34.3612  35.7717  37.2852  38.6758  39.8549   \n",
       "3  19.2806  19.9483  20.8497  21.7603  22.9302  24.1063  25.1627  26.4087   \n",
       "4  17.6875  17.5265  17.4498  17.5614  17.8808  18.1846  18.5901  18.9762   \n",
       "\n",
       "      2015     2020  \n",
       "0  29.5918   30.904  \n",
       "1      ...      ...  \n",
       "2  40.9719  41.9935  \n",
       "3  27.7267  29.0419  \n",
       "4  19.5242  20.2911  \n",
       "\n",
       "[5 rows x 22 columns]"
      ]
     },
     "execution_count": 3,
     "metadata": {},
     "output_type": "execute_result"
    }
   ],
   "source": [
    "url_median_age = 'https://population.un.org/wpp/Download/Files/1_Indicators%20(Standard)/EXCEL_FILES/1_Population/WPP2019_POP_F05_MEDIAN_AGE.xlsx'\n",
    "\n",
    "median_age = pd.read_excel(url_median_age, header=16)\n",
    "median_age.head()"
   ]
  },
  {
   "cell_type": "markdown",
   "metadata": {},
   "source": [
    "### population density dataset"
   ]
  },
  {
   "cell_type": "code",
   "execution_count": 4,
   "metadata": {},
   "outputs": [
    {
     "data": {
      "text/html": [
       "<div>\n",
       "<style scoped>\n",
       "    .dataframe tbody tr th:only-of-type {\n",
       "        vertical-align: middle;\n",
       "    }\n",
       "\n",
       "    .dataframe tbody tr th {\n",
       "        vertical-align: top;\n",
       "    }\n",
       "\n",
       "    .dataframe thead th {\n",
       "        text-align: right;\n",
       "    }\n",
       "</style>\n",
       "<table border=\"1\" class=\"dataframe\">\n",
       "  <thead>\n",
       "    <tr style=\"text-align: right;\">\n",
       "      <th></th>\n",
       "      <th>Index</th>\n",
       "      <th>Variant</th>\n",
       "      <th>Region, subregion, country or area *</th>\n",
       "      <th>Notes</th>\n",
       "      <th>Country code</th>\n",
       "      <th>Type</th>\n",
       "      <th>Parent code</th>\n",
       "      <th>1950</th>\n",
       "      <th>1951</th>\n",
       "      <th>1952</th>\n",
       "      <th>...</th>\n",
       "      <th>2011</th>\n",
       "      <th>2012</th>\n",
       "      <th>2013</th>\n",
       "      <th>2014</th>\n",
       "      <th>2015</th>\n",
       "      <th>2016</th>\n",
       "      <th>2017</th>\n",
       "      <th>2018</th>\n",
       "      <th>2019</th>\n",
       "      <th>2020</th>\n",
       "    </tr>\n",
       "  </thead>\n",
       "  <tbody>\n",
       "    <tr>\n",
       "      <th>0</th>\n",
       "      <td>1</td>\n",
       "      <td>Estimates</td>\n",
       "      <td>WORLD</td>\n",
       "      <td>NaN</td>\n",
       "      <td>900</td>\n",
       "      <td>World</td>\n",
       "      <td>0</td>\n",
       "      <td>19.4969</td>\n",
       "      <td>19.8628</td>\n",
       "      <td>20.2228</td>\n",
       "      <td>...</td>\n",
       "      <td>54.1239</td>\n",
       "      <td>54.7744</td>\n",
       "      <td>55.4259</td>\n",
       "      <td>56.0771</td>\n",
       "      <td>56.7266</td>\n",
       "      <td>57.3741</td>\n",
       "      <td>58.0185</td>\n",
       "      <td>58.6583</td>\n",
       "      <td>59.2915</td>\n",
       "      <td>59.9167</td>\n",
       "    </tr>\n",
       "    <tr>\n",
       "      <th>1</th>\n",
       "      <td>2</td>\n",
       "      <td>Estimates</td>\n",
       "      <td>UN development groups</td>\n",
       "      <td>a</td>\n",
       "      <td>1803</td>\n",
       "      <td>Label/Separator</td>\n",
       "      <td>900</td>\n",
       "      <td>...</td>\n",
       "      <td>...</td>\n",
       "      <td>...</td>\n",
       "      <td>...</td>\n",
       "      <td>...</td>\n",
       "      <td>...</td>\n",
       "      <td>...</td>\n",
       "      <td>...</td>\n",
       "      <td>...</td>\n",
       "      <td>...</td>\n",
       "      <td>...</td>\n",
       "      <td>...</td>\n",
       "      <td>...</td>\n",
       "      <td>...</td>\n",
       "    </tr>\n",
       "    <tr>\n",
       "      <th>2</th>\n",
       "      <td>3</td>\n",
       "      <td>Estimates</td>\n",
       "      <td>More developed regions</td>\n",
       "      <td>b</td>\n",
       "      <td>901</td>\n",
       "      <td>Development Group</td>\n",
       "      <td>1803</td>\n",
       "      <td>16.5962</td>\n",
       "      <td>16.7833</td>\n",
       "      <td>16.9812</td>\n",
       "      <td>...</td>\n",
       "      <td>25.2473</td>\n",
       "      <td>25.3401</td>\n",
       "      <td>25.4284</td>\n",
       "      <td>25.5132</td>\n",
       "      <td>25.5948</td>\n",
       "      <td>25.6734</td>\n",
       "      <td>25.7481</td>\n",
       "      <td>25.8176</td>\n",
       "      <td>25.8801</td>\n",
       "      <td>25.9346</td>\n",
       "    </tr>\n",
       "    <tr>\n",
       "      <th>3</th>\n",
       "      <td>4</td>\n",
       "      <td>Estimates</td>\n",
       "      <td>Less developed regions</td>\n",
       "      <td>c</td>\n",
       "      <td>902</td>\n",
       "      <td>Development Group</td>\n",
       "      <td>1803</td>\n",
       "      <td>21.2552</td>\n",
       "      <td>21.7295</td>\n",
       "      <td>22.1877</td>\n",
       "      <td>...</td>\n",
       "      <td>71.6275</td>\n",
       "      <td>72.6162</td>\n",
       "      <td>73.609</td>\n",
       "      <td>74.6034</td>\n",
       "      <td>75.5973</td>\n",
       "      <td>76.5895</td>\n",
       "      <td>77.5793</td>\n",
       "      <td>78.5647</td>\n",
       "      <td>79.5439</td>\n",
       "      <td>80.515</td>\n",
       "    </tr>\n",
       "    <tr>\n",
       "      <th>4</th>\n",
       "      <td>5</td>\n",
       "      <td>Estimates</td>\n",
       "      <td>Least developed countries</td>\n",
       "      <td>d</td>\n",
       "      <td>941</td>\n",
       "      <td>Development Group</td>\n",
       "      <td>902</td>\n",
       "      <td>9.70429</td>\n",
       "      <td>9.89063</td>\n",
       "      <td>10.0811</td>\n",
       "      <td>...</td>\n",
       "      <td>42.5295</td>\n",
       "      <td>43.5423</td>\n",
       "      <td>44.5814</td>\n",
       "      <td>45.6455</td>\n",
       "      <td>46.7334</td>\n",
       "      <td>47.8452</td>\n",
       "      <td>48.9806</td>\n",
       "      <td>50.1379</td>\n",
       "      <td>51.3146</td>\n",
       "      <td>52.5088</td>\n",
       "    </tr>\n",
       "  </tbody>\n",
       "</table>\n",
       "<p>5 rows × 78 columns</p>\n",
       "</div>"
      ],
      "text/plain": [
       "   Index    Variant Region, subregion, country or area * Notes  Country code  \\\n",
       "0      1  Estimates                                WORLD   NaN           900   \n",
       "1      2  Estimates                UN development groups     a          1803   \n",
       "2      3  Estimates               More developed regions     b           901   \n",
       "3      4  Estimates               Less developed regions     c           902   \n",
       "4      5  Estimates            Least developed countries     d           941   \n",
       "\n",
       "                Type  Parent code     1950     1951     1952   ...     \\\n",
       "0              World            0  19.4969  19.8628  20.2228   ...      \n",
       "1    Label/Separator          900      ...      ...      ...   ...      \n",
       "2  Development Group         1803  16.5962  16.7833  16.9812   ...      \n",
       "3  Development Group         1803  21.2552  21.7295  22.1877   ...      \n",
       "4  Development Group          902  9.70429  9.89063  10.0811   ...      \n",
       "\n",
       "      2011     2012     2013     2014     2015     2016     2017     2018  \\\n",
       "0  54.1239  54.7744  55.4259  56.0771  56.7266  57.3741  58.0185  58.6583   \n",
       "1      ...      ...      ...      ...      ...      ...      ...      ...   \n",
       "2  25.2473  25.3401  25.4284  25.5132  25.5948  25.6734  25.7481  25.8176   \n",
       "3  71.6275  72.6162   73.609  74.6034  75.5973  76.5895  77.5793  78.5647   \n",
       "4  42.5295  43.5423  44.5814  45.6455  46.7334  47.8452  48.9806  50.1379   \n",
       "\n",
       "      2019     2020  \n",
       "0  59.2915  59.9167  \n",
       "1      ...      ...  \n",
       "2  25.8801  25.9346  \n",
       "3  79.5439   80.515  \n",
       "4  51.3146  52.5088  \n",
       "\n",
       "[5 rows x 78 columns]"
      ]
     },
     "execution_count": 4,
     "metadata": {},
     "output_type": "execute_result"
    }
   ],
   "source": [
    "url_population_density = 'https://population.un.org/wpp/Download/Files/1_Indicators%20(Standard)/EXCEL_FILES/1_Population/WPP2019_POP_F06_POPULATION_DENSITY.xlsx'\n",
    "\n",
    "population_density = pd.read_excel(url_population_density, header=16)\n",
    "population_density.head()"
   ]
  },
  {
   "cell_type": "markdown",
   "metadata": {},
   "source": [
    "### population\n",
    "to calculate number of infected people per 1M inhabitants"
   ]
  },
  {
   "cell_type": "code",
   "execution_count": 5,
   "metadata": {},
   "outputs": [
    {
     "data": {
      "text/html": [
       "<div>\n",
       "<style scoped>\n",
       "    .dataframe tbody tr th:only-of-type {\n",
       "        vertical-align: middle;\n",
       "    }\n",
       "\n",
       "    .dataframe tbody tr th {\n",
       "        vertical-align: top;\n",
       "    }\n",
       "\n",
       "    .dataframe thead th {\n",
       "        text-align: right;\n",
       "    }\n",
       "</style>\n",
       "<table border=\"1\" class=\"dataframe\">\n",
       "  <thead>\n",
       "    <tr style=\"text-align: right;\">\n",
       "      <th></th>\n",
       "      <th>Index</th>\n",
       "      <th>Variant</th>\n",
       "      <th>Region, subregion, country or area *</th>\n",
       "      <th>Notes</th>\n",
       "      <th>Country code</th>\n",
       "      <th>Type</th>\n",
       "      <th>Parent code</th>\n",
       "      <th>1950</th>\n",
       "      <th>1951</th>\n",
       "      <th>1952</th>\n",
       "      <th>...</th>\n",
       "      <th>2011</th>\n",
       "      <th>2012</th>\n",
       "      <th>2013</th>\n",
       "      <th>2014</th>\n",
       "      <th>2015</th>\n",
       "      <th>2016</th>\n",
       "      <th>2017</th>\n",
       "      <th>2018</th>\n",
       "      <th>2019</th>\n",
       "      <th>2020</th>\n",
       "    </tr>\n",
       "  </thead>\n",
       "  <tbody>\n",
       "    <tr>\n",
       "      <th>284</th>\n",
       "      <td>285</td>\n",
       "      <td>Estimates</td>\n",
       "      <td>Bermuda</td>\n",
       "      <td>14</td>\n",
       "      <td>60</td>\n",
       "      <td>Country/Area</td>\n",
       "      <td>918</td>\n",
       "      <td>37.256</td>\n",
       "      <td>37.8</td>\n",
       "      <td>38.437</td>\n",
       "      <td>...</td>\n",
       "      <td>65.076</td>\n",
       "      <td>64.737</td>\n",
       "      <td>64.381</td>\n",
       "      <td>64.038</td>\n",
       "      <td>63.695</td>\n",
       "      <td>63.36</td>\n",
       "      <td>63.04</td>\n",
       "      <td>62.763</td>\n",
       "      <td>62.508</td>\n",
       "      <td>62.273</td>\n",
       "    </tr>\n",
       "    <tr>\n",
       "      <th>285</th>\n",
       "      <td>286</td>\n",
       "      <td>Estimates</td>\n",
       "      <td>Canada</td>\n",
       "      <td>NaN</td>\n",
       "      <td>124</td>\n",
       "      <td>Country/Area</td>\n",
       "      <td>918</td>\n",
       "      <td>13733.4</td>\n",
       "      <td>14078.4</td>\n",
       "      <td>14445.5</td>\n",
       "      <td>...</td>\n",
       "      <td>34539.2</td>\n",
       "      <td>34922</td>\n",
       "      <td>35296.5</td>\n",
       "      <td>35664.3</td>\n",
       "      <td>36026.7</td>\n",
       "      <td>36382.9</td>\n",
       "      <td>36732.1</td>\n",
       "      <td>37074.6</td>\n",
       "      <td>37411</td>\n",
       "      <td>37742.2</td>\n",
       "    </tr>\n",
       "    <tr>\n",
       "      <th>286</th>\n",
       "      <td>287</td>\n",
       "      <td>Estimates</td>\n",
       "      <td>Greenland</td>\n",
       "      <td>26</td>\n",
       "      <td>304</td>\n",
       "      <td>Country/Area</td>\n",
       "      <td>918</td>\n",
       "      <td>22.993</td>\n",
       "      <td>23.466</td>\n",
       "      <td>23.936</td>\n",
       "      <td>...</td>\n",
       "      <td>56.555</td>\n",
       "      <td>56.477</td>\n",
       "      <td>56.412</td>\n",
       "      <td>56.383</td>\n",
       "      <td>56.378</td>\n",
       "      <td>56.408</td>\n",
       "      <td>56.473</td>\n",
       "      <td>56.565</td>\n",
       "      <td>56.66</td>\n",
       "      <td>56.772</td>\n",
       "    </tr>\n",
       "    <tr>\n",
       "      <th>287</th>\n",
       "      <td>288</td>\n",
       "      <td>Estimates</td>\n",
       "      <td>Saint Pierre and Miquelon</td>\n",
       "      <td>2</td>\n",
       "      <td>666</td>\n",
       "      <td>Country/Area</td>\n",
       "      <td>918</td>\n",
       "      <td>4.567</td>\n",
       "      <td>4.609</td>\n",
       "      <td>4.648</td>\n",
       "      <td>...</td>\n",
       "      <td>6.323</td>\n",
       "      <td>6.251</td>\n",
       "      <td>6.168</td>\n",
       "      <td>6.073</td>\n",
       "      <td>5.992</td>\n",
       "      <td>5.933</td>\n",
       "      <td>5.885</td>\n",
       "      <td>5.845</td>\n",
       "      <td>5.821</td>\n",
       "      <td>5.795</td>\n",
       "    </tr>\n",
       "    <tr>\n",
       "      <th>288</th>\n",
       "      <td>289</td>\n",
       "      <td>Estimates</td>\n",
       "      <td>United States of America</td>\n",
       "      <td>35</td>\n",
       "      <td>840</td>\n",
       "      <td>Country/Area</td>\n",
       "      <td>918</td>\n",
       "      <td>158804</td>\n",
       "      <td>160872</td>\n",
       "      <td>163266</td>\n",
       "      <td>...</td>\n",
       "      <td>311584</td>\n",
       "      <td>314044</td>\n",
       "      <td>316401</td>\n",
       "      <td>318673</td>\n",
       "      <td>320878</td>\n",
       "      <td>323016</td>\n",
       "      <td>325085</td>\n",
       "      <td>327096</td>\n",
       "      <td>329065</td>\n",
       "      <td>331003</td>\n",
       "    </tr>\n",
       "  </tbody>\n",
       "</table>\n",
       "<p>5 rows × 78 columns</p>\n",
       "</div>"
      ],
      "text/plain": [
       "     Index    Variant Region, subregion, country or area * Notes  \\\n",
       "284    285  Estimates                              Bermuda    14   \n",
       "285    286  Estimates                               Canada   NaN   \n",
       "286    287  Estimates                            Greenland    26   \n",
       "287    288  Estimates            Saint Pierre and Miquelon     2   \n",
       "288    289  Estimates             United States of America    35   \n",
       "\n",
       "     Country code          Type  Parent code     1950     1951     1952  \\\n",
       "284            60  Country/Area          918   37.256     37.8   38.437   \n",
       "285           124  Country/Area          918  13733.4  14078.4  14445.5   \n",
       "286           304  Country/Area          918   22.993   23.466   23.936   \n",
       "287           666  Country/Area          918    4.567    4.609    4.648   \n",
       "288           840  Country/Area          918   158804   160872   163266   \n",
       "\n",
       "      ...        2011    2012     2013     2014     2015     2016     2017  \\\n",
       "284   ...      65.076  64.737   64.381   64.038   63.695    63.36    63.04   \n",
       "285   ...     34539.2   34922  35296.5  35664.3  36026.7  36382.9  36732.1   \n",
       "286   ...      56.555  56.477   56.412   56.383   56.378   56.408   56.473   \n",
       "287   ...       6.323   6.251    6.168    6.073    5.992    5.933    5.885   \n",
       "288   ...      311584  314044   316401   318673   320878   323016   325085   \n",
       "\n",
       "        2018    2019     2020  \n",
       "284   62.763  62.508   62.273  \n",
       "285  37074.6   37411  37742.2  \n",
       "286   56.565   56.66   56.772  \n",
       "287    5.845   5.821    5.795  \n",
       "288   327096  329065   331003  \n",
       "\n",
       "[5 rows x 78 columns]"
      ]
     },
     "execution_count": 5,
     "metadata": {},
     "output_type": "execute_result"
    }
   ],
   "source": [
    "url_population = 'https://population.un.org/wpp/Download/Files/1_Indicators%20(Standard)/EXCEL_FILES/1_Population/WPP2019_POP_F01_1_TOTAL_POPULATION_BOTH_SEXES.xlsx'\n",
    "\n",
    "population = pd.read_excel(url_population, header=16)\n",
    "population.tail()"
   ]
  },
  {
   "cell_type": "markdown",
   "metadata": {},
   "source": [
    "## 2. Cleaning the datasets"
   ]
  },
  {
   "cell_type": "code",
   "execution_count": 6,
   "metadata": {},
   "outputs": [],
   "source": [
    "def clean_column_names(df: pd.DataFrame):\n",
    "    df.columns = df.columns \\\n",
    "                   .str.lower() \\\n",
    "                   .str.lstrip() \\\n",
    "                   .str.replace('*', '') \\\n",
    "                   .str.rstrip() \\\n",
    "                   .str.replace(' ', '_') \\\n",
    "                   .str.replace(',', '')"
   ]
  },
  {
   "cell_type": "markdown",
   "metadata": {},
   "source": [
    "### covid dataset"
   ]
  },
  {
   "cell_type": "code",
   "execution_count": 7,
   "metadata": {},
   "outputs": [],
   "source": [
    "clean_column_names(covid)"
   ]
  },
  {
   "cell_type": "code",
   "execution_count": 8,
   "metadata": {},
   "outputs": [
    {
     "data": {
      "text/html": [
       "<div>\n",
       "<style scoped>\n",
       "    .dataframe tbody tr th:only-of-type {\n",
       "        vertical-align: middle;\n",
       "    }\n",
       "\n",
       "    .dataframe tbody tr th {\n",
       "        vertical-align: top;\n",
       "    }\n",
       "\n",
       "    .dataframe thead th {\n",
       "        text-align: right;\n",
       "    }\n",
       "</style>\n",
       "<table border=\"1\" class=\"dataframe\">\n",
       "  <thead>\n",
       "    <tr style=\"text-align: right;\">\n",
       "      <th></th>\n",
       "      <th>date_reported</th>\n",
       "      <th>country_code</th>\n",
       "      <th>country</th>\n",
       "      <th>who_region</th>\n",
       "      <th>new_cases</th>\n",
       "      <th>cumulative_cases</th>\n",
       "      <th>new_deaths</th>\n",
       "      <th>cumulative_deaths</th>\n",
       "    </tr>\n",
       "  </thead>\n",
       "  <tbody>\n",
       "    <tr>\n",
       "      <th>0</th>\n",
       "      <td>2020-02-24</td>\n",
       "      <td>AF</td>\n",
       "      <td>Afghanistan</td>\n",
       "      <td>EMRO</td>\n",
       "      <td>5</td>\n",
       "      <td>5</td>\n",
       "      <td>0</td>\n",
       "      <td>0</td>\n",
       "    </tr>\n",
       "    <tr>\n",
       "      <th>1</th>\n",
       "      <td>2020-02-25</td>\n",
       "      <td>AF</td>\n",
       "      <td>Afghanistan</td>\n",
       "      <td>EMRO</td>\n",
       "      <td>0</td>\n",
       "      <td>5</td>\n",
       "      <td>0</td>\n",
       "      <td>0</td>\n",
       "    </tr>\n",
       "    <tr>\n",
       "      <th>2</th>\n",
       "      <td>2020-02-26</td>\n",
       "      <td>AF</td>\n",
       "      <td>Afghanistan</td>\n",
       "      <td>EMRO</td>\n",
       "      <td>0</td>\n",
       "      <td>5</td>\n",
       "      <td>0</td>\n",
       "      <td>0</td>\n",
       "    </tr>\n",
       "    <tr>\n",
       "      <th>3</th>\n",
       "      <td>2020-02-27</td>\n",
       "      <td>AF</td>\n",
       "      <td>Afghanistan</td>\n",
       "      <td>EMRO</td>\n",
       "      <td>0</td>\n",
       "      <td>5</td>\n",
       "      <td>0</td>\n",
       "      <td>0</td>\n",
       "    </tr>\n",
       "    <tr>\n",
       "      <th>4</th>\n",
       "      <td>2020-02-28</td>\n",
       "      <td>AF</td>\n",
       "      <td>Afghanistan</td>\n",
       "      <td>EMRO</td>\n",
       "      <td>0</td>\n",
       "      <td>5</td>\n",
       "      <td>0</td>\n",
       "      <td>0</td>\n",
       "    </tr>\n",
       "  </tbody>\n",
       "</table>\n",
       "</div>"
      ],
      "text/plain": [
       "  date_reported country_code      country who_region  new_cases  \\\n",
       "0    2020-02-24           AF  Afghanistan       EMRO          5   \n",
       "1    2020-02-25           AF  Afghanistan       EMRO          0   \n",
       "2    2020-02-26           AF  Afghanistan       EMRO          0   \n",
       "3    2020-02-27           AF  Afghanistan       EMRO          0   \n",
       "4    2020-02-28           AF  Afghanistan       EMRO          0   \n",
       "\n",
       "   cumulative_cases  new_deaths  cumulative_deaths  \n",
       "0                 5           0                  0  \n",
       "1                 5           0                  0  \n",
       "2                 5           0                  0  \n",
       "3                 5           0                  0  \n",
       "4                 5           0                  0  "
      ]
     },
     "execution_count": 8,
     "metadata": {},
     "output_type": "execute_result"
    }
   ],
   "source": [
    "covid.head()"
   ]
  },
  {
   "cell_type": "markdown",
   "metadata": {},
   "source": [
    "### median_age dataset"
   ]
  },
  {
   "cell_type": "code",
   "execution_count": 9,
   "metadata": {},
   "outputs": [],
   "source": [
    "clean_column_names(median_age)"
   ]
  },
  {
   "cell_type": "code",
   "execution_count": 10,
   "metadata": {},
   "outputs": [
    {
     "data": {
      "text/html": [
       "<div>\n",
       "<style scoped>\n",
       "    .dataframe tbody tr th:only-of-type {\n",
       "        vertical-align: middle;\n",
       "    }\n",
       "\n",
       "    .dataframe tbody tr th {\n",
       "        vertical-align: top;\n",
       "    }\n",
       "\n",
       "    .dataframe thead th {\n",
       "        text-align: right;\n",
       "    }\n",
       "</style>\n",
       "<table border=\"1\" class=\"dataframe\">\n",
       "  <thead>\n",
       "    <tr style=\"text-align: right;\">\n",
       "      <th></th>\n",
       "      <th>index</th>\n",
       "      <th>variant</th>\n",
       "      <th>region_subregion_country_or_area</th>\n",
       "      <th>notes</th>\n",
       "      <th>country_code</th>\n",
       "      <th>type</th>\n",
       "      <th>parent_code</th>\n",
       "      <th>1950</th>\n",
       "      <th>1955</th>\n",
       "      <th>1960</th>\n",
       "      <th>...</th>\n",
       "      <th>1975</th>\n",
       "      <th>1980</th>\n",
       "      <th>1985</th>\n",
       "      <th>1990</th>\n",
       "      <th>1995</th>\n",
       "      <th>2000</th>\n",
       "      <th>2005</th>\n",
       "      <th>2010</th>\n",
       "      <th>2015</th>\n",
       "      <th>2020</th>\n",
       "    </tr>\n",
       "  </thead>\n",
       "  <tbody>\n",
       "    <tr>\n",
       "      <th>250</th>\n",
       "      <td>251</td>\n",
       "      <td>Estimates</td>\n",
       "      <td>Netherlands</td>\n",
       "      <td>28</td>\n",
       "      <td>528</td>\n",
       "      <td>Country/Area</td>\n",
       "      <td>926</td>\n",
       "      <td>28.019</td>\n",
       "      <td>28.482</td>\n",
       "      <td>28.602</td>\n",
       "      <td>...</td>\n",
       "      <td>29.393</td>\n",
       "      <td>31.275</td>\n",
       "      <td>33.107</td>\n",
       "      <td>34.564</td>\n",
       "      <td>36.008</td>\n",
       "      <td>37.526</td>\n",
       "      <td>39.046</td>\n",
       "      <td>40.797</td>\n",
       "      <td>42.07</td>\n",
       "      <td>43.314</td>\n",
       "    </tr>\n",
       "    <tr>\n",
       "      <th>251</th>\n",
       "      <td>252</td>\n",
       "      <td>Estimates</td>\n",
       "      <td>Switzerland</td>\n",
       "      <td>NaN</td>\n",
       "      <td>756</td>\n",
       "      <td>Country/Area</td>\n",
       "      <td>926</td>\n",
       "      <td>33.174</td>\n",
       "      <td>32.967</td>\n",
       "      <td>32.717</td>\n",
       "      <td>...</td>\n",
       "      <td>32.882</td>\n",
       "      <td>34.646</td>\n",
       "      <td>36.01</td>\n",
       "      <td>36.88</td>\n",
       "      <td>37.22</td>\n",
       "      <td>38.555</td>\n",
       "      <td>40.042</td>\n",
       "      <td>41.55</td>\n",
       "      <td>42.21</td>\n",
       "      <td>43.053</td>\n",
       "    </tr>\n",
       "    <tr>\n",
       "      <th>252</th>\n",
       "      <td>253</td>\n",
       "      <td>Estimates</td>\n",
       "      <td>NORTHERN AMERICA</td>\n",
       "      <td>NaN</td>\n",
       "      <td>918</td>\n",
       "      <td>SDG subregion</td>\n",
       "      <td>1829</td>\n",
       "      <td>29.9811</td>\n",
       "      <td>30.0679</td>\n",
       "      <td>29.4187</td>\n",
       "      <td>...</td>\n",
       "      <td>28.8269</td>\n",
       "      <td>29.9297</td>\n",
       "      <td>31.4033</td>\n",
       "      <td>32.8513</td>\n",
       "      <td>34.1232</td>\n",
       "      <td>35.3571</td>\n",
       "      <td>36.3528</td>\n",
       "      <td>37.1585</td>\n",
       "      <td>37.8661</td>\n",
       "      <td>38.6078</td>\n",
       "    </tr>\n",
       "    <tr>\n",
       "      <th>253</th>\n",
       "      <td>254</td>\n",
       "      <td>Estimates</td>\n",
       "      <td>Canada</td>\n",
       "      <td>NaN</td>\n",
       "      <td>124</td>\n",
       "      <td>Country/Area</td>\n",
       "      <td>918</td>\n",
       "      <td>27.701</td>\n",
       "      <td>27.324</td>\n",
       "      <td>26.458</td>\n",
       "      <td>...</td>\n",
       "      <td>27.457</td>\n",
       "      <td>29.193</td>\n",
       "      <td>31.045</td>\n",
       "      <td>32.924</td>\n",
       "      <td>34.777</td>\n",
       "      <td>36.794</td>\n",
       "      <td>38.559</td>\n",
       "      <td>39.619</td>\n",
       "      <td>40.401</td>\n",
       "      <td>41.124</td>\n",
       "    </tr>\n",
       "    <tr>\n",
       "      <th>254</th>\n",
       "      <td>255</td>\n",
       "      <td>Estimates</td>\n",
       "      <td>United States of America</td>\n",
       "      <td>29</td>\n",
       "      <td>840</td>\n",
       "      <td>Country/Area</td>\n",
       "      <td>918</td>\n",
       "      <td>30.193</td>\n",
       "      <td>30.324</td>\n",
       "      <td>29.738</td>\n",
       "      <td>...</td>\n",
       "      <td>28.985</td>\n",
       "      <td>30.014</td>\n",
       "      <td>31.444</td>\n",
       "      <td>32.845</td>\n",
       "      <td>34.048</td>\n",
       "      <td>35.188</td>\n",
       "      <td>36.104</td>\n",
       "      <td>36.875</td>\n",
       "      <td>37.565</td>\n",
       "      <td>38.308</td>\n",
       "    </tr>\n",
       "  </tbody>\n",
       "</table>\n",
       "<p>5 rows × 22 columns</p>\n",
       "</div>"
      ],
      "text/plain": [
       "     index    variant region_subregion_country_or_area notes  country_code  \\\n",
       "250    251  Estimates                      Netherlands    28           528   \n",
       "251    252  Estimates                      Switzerland   NaN           756   \n",
       "252    253  Estimates                 NORTHERN AMERICA   NaN           918   \n",
       "253    254  Estimates                           Canada   NaN           124   \n",
       "254    255  Estimates         United States of America    29           840   \n",
       "\n",
       "              type  parent_code     1950     1955     1960   ...        1975  \\\n",
       "250   Country/Area          926   28.019   28.482   28.602   ...      29.393   \n",
       "251   Country/Area          926   33.174   32.967   32.717   ...      32.882   \n",
       "252  SDG subregion         1829  29.9811  30.0679  29.4187   ...     28.8269   \n",
       "253   Country/Area          918   27.701   27.324   26.458   ...      27.457   \n",
       "254   Country/Area          918   30.193   30.324   29.738   ...      28.985   \n",
       "\n",
       "        1980     1985     1990     1995     2000     2005     2010     2015  \\\n",
       "250   31.275   33.107   34.564   36.008   37.526   39.046   40.797    42.07   \n",
       "251   34.646    36.01    36.88    37.22   38.555   40.042    41.55    42.21   \n",
       "252  29.9297  31.4033  32.8513  34.1232  35.3571  36.3528  37.1585  37.8661   \n",
       "253   29.193   31.045   32.924   34.777   36.794   38.559   39.619   40.401   \n",
       "254   30.014   31.444   32.845   34.048   35.188   36.104   36.875   37.565   \n",
       "\n",
       "        2020  \n",
       "250   43.314  \n",
       "251   43.053  \n",
       "252  38.6078  \n",
       "253   41.124  \n",
       "254   38.308  \n",
       "\n",
       "[5 rows x 22 columns]"
      ]
     },
     "execution_count": 10,
     "metadata": {},
     "output_type": "execute_result"
    }
   ],
   "source": [
    "median_age.tail()"
   ]
  },
  {
   "cell_type": "code",
   "execution_count": 11,
   "metadata": {},
   "outputs": [
    {
     "data": {
      "text/html": [
       "<div>\n",
       "<style scoped>\n",
       "    .dataframe tbody tr th:only-of-type {\n",
       "        vertical-align: middle;\n",
       "    }\n",
       "\n",
       "    .dataframe tbody tr th {\n",
       "        vertical-align: top;\n",
       "    }\n",
       "\n",
       "    .dataframe thead th {\n",
       "        text-align: right;\n",
       "    }\n",
       "</style>\n",
       "<table border=\"1\" class=\"dataframe\">\n",
       "  <thead>\n",
       "    <tr style=\"text-align: right;\">\n",
       "      <th></th>\n",
       "      <th>country_area</th>\n",
       "      <th>2020</th>\n",
       "    </tr>\n",
       "  </thead>\n",
       "  <tbody>\n",
       "    <tr>\n",
       "      <th>0</th>\n",
       "      <td>Burundi</td>\n",
       "      <td>17.32</td>\n",
       "    </tr>\n",
       "    <tr>\n",
       "      <th>1</th>\n",
       "      <td>Comoros</td>\n",
       "      <td>20.37</td>\n",
       "    </tr>\n",
       "    <tr>\n",
       "      <th>2</th>\n",
       "      <td>Djibouti</td>\n",
       "      <td>26.57</td>\n",
       "    </tr>\n",
       "    <tr>\n",
       "      <th>3</th>\n",
       "      <td>Eritrea</td>\n",
       "      <td>19.209</td>\n",
       "    </tr>\n",
       "    <tr>\n",
       "      <th>4</th>\n",
       "      <td>Ethiopia</td>\n",
       "      <td>19.466</td>\n",
       "    </tr>\n",
       "  </tbody>\n",
       "</table>\n",
       "</div>"
      ],
      "text/plain": [
       "  country_area    2020\n",
       "0      Burundi   17.32\n",
       "1      Comoros   20.37\n",
       "2     Djibouti   26.57\n",
       "3      Eritrea  19.209\n",
       "4     Ethiopia  19.466"
      ]
     },
     "execution_count": 11,
     "metadata": {},
     "output_type": "execute_result"
    }
   ],
   "source": [
    "median_age_2020 = median_age[median_age.type == 'Country/Area'] \\\n",
    "                    [['region_subregion_country_or_area', '2020']] \\\n",
    "                    .rename(columns={'region_subregion_country_or_area': 'country_area'}) \\\n",
    "                    .reset_index(drop=True)\n",
    "                                    \n",
    "\n",
    "median_age_2020.head()"
   ]
  },
  {
   "cell_type": "markdown",
   "metadata": {},
   "source": [
    "### population density"
   ]
  },
  {
   "cell_type": "code",
   "execution_count": 12,
   "metadata": {},
   "outputs": [],
   "source": [
    "clean_column_names(population_density)"
   ]
  },
  {
   "cell_type": "code",
   "execution_count": 13,
   "metadata": {},
   "outputs": [
    {
     "data": {
      "text/html": [
       "<div>\n",
       "<style scoped>\n",
       "    .dataframe tbody tr th:only-of-type {\n",
       "        vertical-align: middle;\n",
       "    }\n",
       "\n",
       "    .dataframe tbody tr th {\n",
       "        vertical-align: top;\n",
       "    }\n",
       "\n",
       "    .dataframe thead th {\n",
       "        text-align: right;\n",
       "    }\n",
       "</style>\n",
       "<table border=\"1\" class=\"dataframe\">\n",
       "  <thead>\n",
       "    <tr style=\"text-align: right;\">\n",
       "      <th></th>\n",
       "      <th>index</th>\n",
       "      <th>variant</th>\n",
       "      <th>region_subregion_country_or_area</th>\n",
       "      <th>notes</th>\n",
       "      <th>country_code</th>\n",
       "      <th>type</th>\n",
       "      <th>parent_code</th>\n",
       "      <th>1950</th>\n",
       "      <th>1951</th>\n",
       "      <th>1952</th>\n",
       "      <th>...</th>\n",
       "      <th>2011</th>\n",
       "      <th>2012</th>\n",
       "      <th>2013</th>\n",
       "      <th>2014</th>\n",
       "      <th>2015</th>\n",
       "      <th>2016</th>\n",
       "      <th>2017</th>\n",
       "      <th>2018</th>\n",
       "      <th>2019</th>\n",
       "      <th>2020</th>\n",
       "    </tr>\n",
       "  </thead>\n",
       "  <tbody>\n",
       "    <tr>\n",
       "      <th>284</th>\n",
       "      <td>285</td>\n",
       "      <td>Estimates</td>\n",
       "      <td>Bermuda</td>\n",
       "      <td>14</td>\n",
       "      <td>60</td>\n",
       "      <td>Country/Area</td>\n",
       "      <td>918</td>\n",
       "      <td>745.12</td>\n",
       "      <td>756</td>\n",
       "      <td>768.74</td>\n",
       "      <td>...</td>\n",
       "      <td>1301.52</td>\n",
       "      <td>1294.74</td>\n",
       "      <td>1287.62</td>\n",
       "      <td>1280.76</td>\n",
       "      <td>1273.9</td>\n",
       "      <td>1267.2</td>\n",
       "      <td>1260.8</td>\n",
       "      <td>1255.26</td>\n",
       "      <td>1250.16</td>\n",
       "      <td>1245.46</td>\n",
       "    </tr>\n",
       "    <tr>\n",
       "      <th>285</th>\n",
       "      <td>286</td>\n",
       "      <td>Estimates</td>\n",
       "      <td>Canada</td>\n",
       "      <td>NaN</td>\n",
       "      <td>124</td>\n",
       "      <td>Country/Area</td>\n",
       "      <td>918</td>\n",
       "      <td>1.51024</td>\n",
       "      <td>1.54819</td>\n",
       "      <td>1.58855</td>\n",
       "      <td>...</td>\n",
       "      <td>3.79822</td>\n",
       "      <td>3.84032</td>\n",
       "      <td>3.88151</td>\n",
       "      <td>3.92196</td>\n",
       "      <td>3.9618</td>\n",
       "      <td>4.00098</td>\n",
       "      <td>4.03937</td>\n",
       "      <td>4.07703</td>\n",
       "      <td>4.11404</td>\n",
       "      <td>4.15045</td>\n",
       "    </tr>\n",
       "    <tr>\n",
       "      <th>286</th>\n",
       "      <td>287</td>\n",
       "      <td>Estimates</td>\n",
       "      <td>Greenland</td>\n",
       "      <td>26</td>\n",
       "      <td>304</td>\n",
       "      <td>Country/Area</td>\n",
       "      <td>918</td>\n",
       "      <td>0.056019</td>\n",
       "      <td>0.0571714</td>\n",
       "      <td>0.0583165</td>\n",
       "      <td>...</td>\n",
       "      <td>0.137788</td>\n",
       "      <td>0.137598</td>\n",
       "      <td>0.137439</td>\n",
       "      <td>0.137369</td>\n",
       "      <td>0.137357</td>\n",
       "      <td>0.13743</td>\n",
       "      <td>0.137588</td>\n",
       "      <td>0.137812</td>\n",
       "      <td>0.138044</td>\n",
       "      <td>0.138316</td>\n",
       "    </tr>\n",
       "    <tr>\n",
       "      <th>287</th>\n",
       "      <td>288</td>\n",
       "      <td>Estimates</td>\n",
       "      <td>Saint Pierre and Miquelon</td>\n",
       "      <td>2</td>\n",
       "      <td>666</td>\n",
       "      <td>Country/Area</td>\n",
       "      <td>918</td>\n",
       "      <td>19.8565</td>\n",
       "      <td>20.0391</td>\n",
       "      <td>20.2087</td>\n",
       "      <td>...</td>\n",
       "      <td>27.4913</td>\n",
       "      <td>27.1783</td>\n",
       "      <td>26.8174</td>\n",
       "      <td>26.4043</td>\n",
       "      <td>26.0522</td>\n",
       "      <td>25.7957</td>\n",
       "      <td>25.587</td>\n",
       "      <td>25.413</td>\n",
       "      <td>25.3087</td>\n",
       "      <td>25.1957</td>\n",
       "    </tr>\n",
       "    <tr>\n",
       "      <th>288</th>\n",
       "      <td>289</td>\n",
       "      <td>Estimates</td>\n",
       "      <td>United States of America</td>\n",
       "      <td>35</td>\n",
       "      <td>840</td>\n",
       "      <td>Country/Area</td>\n",
       "      <td>918</td>\n",
       "      <td>17.3606</td>\n",
       "      <td>17.5866</td>\n",
       "      <td>17.8483</td>\n",
       "      <td>...</td>\n",
       "      <td>34.0625</td>\n",
       "      <td>34.3314</td>\n",
       "      <td>34.589</td>\n",
       "      <td>34.8375</td>\n",
       "      <td>35.0786</td>\n",
       "      <td>35.3123</td>\n",
       "      <td>35.5384</td>\n",
       "      <td>35.7583</td>\n",
       "      <td>35.9735</td>\n",
       "      <td>36.1854</td>\n",
       "    </tr>\n",
       "  </tbody>\n",
       "</table>\n",
       "<p>5 rows × 78 columns</p>\n",
       "</div>"
      ],
      "text/plain": [
       "     index    variant region_subregion_country_or_area notes  country_code  \\\n",
       "284    285  Estimates                          Bermuda    14            60   \n",
       "285    286  Estimates                           Canada   NaN           124   \n",
       "286    287  Estimates                        Greenland    26           304   \n",
       "287    288  Estimates        Saint Pierre and Miquelon     2           666   \n",
       "288    289  Estimates         United States of America    35           840   \n",
       "\n",
       "             type  parent_code      1950       1951       1952    ...     \\\n",
       "284  Country/Area          918    745.12        756     768.74    ...      \n",
       "285  Country/Area          918   1.51024    1.54819    1.58855    ...      \n",
       "286  Country/Area          918  0.056019  0.0571714  0.0583165    ...      \n",
       "287  Country/Area          918   19.8565    20.0391    20.2087    ...      \n",
       "288  Country/Area          918   17.3606    17.5866    17.8483    ...      \n",
       "\n",
       "         2011      2012      2013      2014      2015     2016      2017  \\\n",
       "284   1301.52   1294.74   1287.62   1280.76    1273.9   1267.2    1260.8   \n",
       "285   3.79822   3.84032   3.88151   3.92196    3.9618  4.00098   4.03937   \n",
       "286  0.137788  0.137598  0.137439  0.137369  0.137357  0.13743  0.137588   \n",
       "287   27.4913   27.1783   26.8174   26.4043   26.0522  25.7957    25.587   \n",
       "288   34.0625   34.3314    34.589   34.8375   35.0786  35.3123   35.5384   \n",
       "\n",
       "         2018      2019      2020  \n",
       "284   1255.26   1250.16   1245.46  \n",
       "285   4.07703   4.11404   4.15045  \n",
       "286  0.137812  0.138044  0.138316  \n",
       "287    25.413   25.3087   25.1957  \n",
       "288   35.7583   35.9735   36.1854  \n",
       "\n",
       "[5 rows x 78 columns]"
      ]
     },
     "execution_count": 13,
     "metadata": {},
     "output_type": "execute_result"
    }
   ],
   "source": [
    "population_density.tail()"
   ]
  },
  {
   "cell_type": "code",
   "execution_count": 14,
   "metadata": {},
   "outputs": [],
   "source": [
    "population_density_2020 = \\\n",
    "            population_density[population_density.type == 'Country/Area'] \\\n",
    "                    [['region_subregion_country_or_area', '2020']] \\\n",
    "                    .rename(columns={'region_subregion_country_or_area': 'country_area'}) \\\n",
    "                    .reset_index(drop=True)"
   ]
  },
  {
   "cell_type": "code",
   "execution_count": 15,
   "metadata": {},
   "outputs": [
    {
     "data": {
      "text/html": [
       "<div>\n",
       "<style scoped>\n",
       "    .dataframe tbody tr th:only-of-type {\n",
       "        vertical-align: middle;\n",
       "    }\n",
       "\n",
       "    .dataframe tbody tr th {\n",
       "        vertical-align: top;\n",
       "    }\n",
       "\n",
       "    .dataframe thead th {\n",
       "        text-align: right;\n",
       "    }\n",
       "</style>\n",
       "<table border=\"1\" class=\"dataframe\">\n",
       "  <thead>\n",
       "    <tr style=\"text-align: right;\">\n",
       "      <th></th>\n",
       "      <th>country_area</th>\n",
       "      <th>2020</th>\n",
       "    </tr>\n",
       "  </thead>\n",
       "  <tbody>\n",
       "    <tr>\n",
       "      <th>0</th>\n",
       "      <td>Burundi</td>\n",
       "      <td>463.037</td>\n",
       "    </tr>\n",
       "    <tr>\n",
       "      <th>1</th>\n",
       "      <td>Comoros</td>\n",
       "      <td>467.273</td>\n",
       "    </tr>\n",
       "    <tr>\n",
       "      <th>2</th>\n",
       "      <td>Djibouti</td>\n",
       "      <td>42.623</td>\n",
       "    </tr>\n",
       "    <tr>\n",
       "      <th>3</th>\n",
       "      <td>Eritrea</td>\n",
       "      <td>35.1131</td>\n",
       "    </tr>\n",
       "    <tr>\n",
       "      <th>4</th>\n",
       "      <td>Ethiopia</td>\n",
       "      <td>114.964</td>\n",
       "    </tr>\n",
       "  </tbody>\n",
       "</table>\n",
       "</div>"
      ],
      "text/plain": [
       "  country_area     2020\n",
       "0      Burundi  463.037\n",
       "1      Comoros  467.273\n",
       "2     Djibouti   42.623\n",
       "3      Eritrea  35.1131\n",
       "4     Ethiopia  114.964"
      ]
     },
     "execution_count": 15,
     "metadata": {},
     "output_type": "execute_result"
    }
   ],
   "source": [
    "population_density_2020.head()"
   ]
  },
  {
   "cell_type": "markdown",
   "metadata": {},
   "source": [
    "### population"
   ]
  },
  {
   "cell_type": "code",
   "execution_count": 16,
   "metadata": {},
   "outputs": [],
   "source": [
    "clean_column_names(population)"
   ]
  },
  {
   "cell_type": "code",
   "execution_count": 17,
   "metadata": {},
   "outputs": [
    {
     "data": {
      "text/html": [
       "<div>\n",
       "<style scoped>\n",
       "    .dataframe tbody tr th:only-of-type {\n",
       "        vertical-align: middle;\n",
       "    }\n",
       "\n",
       "    .dataframe tbody tr th {\n",
       "        vertical-align: top;\n",
       "    }\n",
       "\n",
       "    .dataframe thead th {\n",
       "        text-align: right;\n",
       "    }\n",
       "</style>\n",
       "<table border=\"1\" class=\"dataframe\">\n",
       "  <thead>\n",
       "    <tr style=\"text-align: right;\">\n",
       "      <th></th>\n",
       "      <th>index</th>\n",
       "      <th>variant</th>\n",
       "      <th>region_subregion_country_or_area</th>\n",
       "      <th>notes</th>\n",
       "      <th>country_code</th>\n",
       "      <th>type</th>\n",
       "      <th>parent_code</th>\n",
       "      <th>1950</th>\n",
       "      <th>1951</th>\n",
       "      <th>1952</th>\n",
       "      <th>...</th>\n",
       "      <th>2011</th>\n",
       "      <th>2012</th>\n",
       "      <th>2013</th>\n",
       "      <th>2014</th>\n",
       "      <th>2015</th>\n",
       "      <th>2016</th>\n",
       "      <th>2017</th>\n",
       "      <th>2018</th>\n",
       "      <th>2019</th>\n",
       "      <th>2020</th>\n",
       "    </tr>\n",
       "  </thead>\n",
       "  <tbody>\n",
       "    <tr>\n",
       "      <th>284</th>\n",
       "      <td>285</td>\n",
       "      <td>Estimates</td>\n",
       "      <td>Bermuda</td>\n",
       "      <td>14</td>\n",
       "      <td>60</td>\n",
       "      <td>Country/Area</td>\n",
       "      <td>918</td>\n",
       "      <td>37.256</td>\n",
       "      <td>37.8</td>\n",
       "      <td>38.437</td>\n",
       "      <td>...</td>\n",
       "      <td>65.076</td>\n",
       "      <td>64.737</td>\n",
       "      <td>64.381</td>\n",
       "      <td>64.038</td>\n",
       "      <td>63.695</td>\n",
       "      <td>63.36</td>\n",
       "      <td>63.04</td>\n",
       "      <td>62.763</td>\n",
       "      <td>62.508</td>\n",
       "      <td>62.273</td>\n",
       "    </tr>\n",
       "    <tr>\n",
       "      <th>285</th>\n",
       "      <td>286</td>\n",
       "      <td>Estimates</td>\n",
       "      <td>Canada</td>\n",
       "      <td>NaN</td>\n",
       "      <td>124</td>\n",
       "      <td>Country/Area</td>\n",
       "      <td>918</td>\n",
       "      <td>13733.4</td>\n",
       "      <td>14078.4</td>\n",
       "      <td>14445.5</td>\n",
       "      <td>...</td>\n",
       "      <td>34539.2</td>\n",
       "      <td>34922</td>\n",
       "      <td>35296.5</td>\n",
       "      <td>35664.3</td>\n",
       "      <td>36026.7</td>\n",
       "      <td>36382.9</td>\n",
       "      <td>36732.1</td>\n",
       "      <td>37074.6</td>\n",
       "      <td>37411</td>\n",
       "      <td>37742.2</td>\n",
       "    </tr>\n",
       "    <tr>\n",
       "      <th>286</th>\n",
       "      <td>287</td>\n",
       "      <td>Estimates</td>\n",
       "      <td>Greenland</td>\n",
       "      <td>26</td>\n",
       "      <td>304</td>\n",
       "      <td>Country/Area</td>\n",
       "      <td>918</td>\n",
       "      <td>22.993</td>\n",
       "      <td>23.466</td>\n",
       "      <td>23.936</td>\n",
       "      <td>...</td>\n",
       "      <td>56.555</td>\n",
       "      <td>56.477</td>\n",
       "      <td>56.412</td>\n",
       "      <td>56.383</td>\n",
       "      <td>56.378</td>\n",
       "      <td>56.408</td>\n",
       "      <td>56.473</td>\n",
       "      <td>56.565</td>\n",
       "      <td>56.66</td>\n",
       "      <td>56.772</td>\n",
       "    </tr>\n",
       "    <tr>\n",
       "      <th>287</th>\n",
       "      <td>288</td>\n",
       "      <td>Estimates</td>\n",
       "      <td>Saint Pierre and Miquelon</td>\n",
       "      <td>2</td>\n",
       "      <td>666</td>\n",
       "      <td>Country/Area</td>\n",
       "      <td>918</td>\n",
       "      <td>4.567</td>\n",
       "      <td>4.609</td>\n",
       "      <td>4.648</td>\n",
       "      <td>...</td>\n",
       "      <td>6.323</td>\n",
       "      <td>6.251</td>\n",
       "      <td>6.168</td>\n",
       "      <td>6.073</td>\n",
       "      <td>5.992</td>\n",
       "      <td>5.933</td>\n",
       "      <td>5.885</td>\n",
       "      <td>5.845</td>\n",
       "      <td>5.821</td>\n",
       "      <td>5.795</td>\n",
       "    </tr>\n",
       "    <tr>\n",
       "      <th>288</th>\n",
       "      <td>289</td>\n",
       "      <td>Estimates</td>\n",
       "      <td>United States of America</td>\n",
       "      <td>35</td>\n",
       "      <td>840</td>\n",
       "      <td>Country/Area</td>\n",
       "      <td>918</td>\n",
       "      <td>158804</td>\n",
       "      <td>160872</td>\n",
       "      <td>163266</td>\n",
       "      <td>...</td>\n",
       "      <td>311584</td>\n",
       "      <td>314044</td>\n",
       "      <td>316401</td>\n",
       "      <td>318673</td>\n",
       "      <td>320878</td>\n",
       "      <td>323016</td>\n",
       "      <td>325085</td>\n",
       "      <td>327096</td>\n",
       "      <td>329065</td>\n",
       "      <td>331003</td>\n",
       "    </tr>\n",
       "  </tbody>\n",
       "</table>\n",
       "<p>5 rows × 78 columns</p>\n",
       "</div>"
      ],
      "text/plain": [
       "     index    variant region_subregion_country_or_area notes  country_code  \\\n",
       "284    285  Estimates                          Bermuda    14            60   \n",
       "285    286  Estimates                           Canada   NaN           124   \n",
       "286    287  Estimates                        Greenland    26           304   \n",
       "287    288  Estimates        Saint Pierre and Miquelon     2           666   \n",
       "288    289  Estimates         United States of America    35           840   \n",
       "\n",
       "             type  parent_code     1950     1951     1952   ...        2011  \\\n",
       "284  Country/Area          918   37.256     37.8   38.437   ...      65.076   \n",
       "285  Country/Area          918  13733.4  14078.4  14445.5   ...     34539.2   \n",
       "286  Country/Area          918   22.993   23.466   23.936   ...      56.555   \n",
       "287  Country/Area          918    4.567    4.609    4.648   ...       6.323   \n",
       "288  Country/Area          918   158804   160872   163266   ...      311584   \n",
       "\n",
       "       2012     2013     2014     2015     2016     2017     2018    2019  \\\n",
       "284  64.737   64.381   64.038   63.695    63.36    63.04   62.763  62.508   \n",
       "285   34922  35296.5  35664.3  36026.7  36382.9  36732.1  37074.6   37411   \n",
       "286  56.477   56.412   56.383   56.378   56.408   56.473   56.565   56.66   \n",
       "287   6.251    6.168    6.073    5.992    5.933    5.885    5.845   5.821   \n",
       "288  314044   316401   318673   320878   323016   325085   327096  329065   \n",
       "\n",
       "        2020  \n",
       "284   62.273  \n",
       "285  37742.2  \n",
       "286   56.772  \n",
       "287    5.795  \n",
       "288   331003  \n",
       "\n",
       "[5 rows x 78 columns]"
      ]
     },
     "execution_count": 17,
     "metadata": {},
     "output_type": "execute_result"
    }
   ],
   "source": [
    "population.tail()"
   ]
  },
  {
   "cell_type": "code",
   "execution_count": 18,
   "metadata": {},
   "outputs": [],
   "source": [
    "population_2020 = population[population.type == 'Country/Area'] \\\n",
    "                    [['region_subregion_country_or_area', '2020']] \\\n",
    "                    .rename(columns={'region_subregion_country_or_area': 'country_area'}) \\\n",
    "                    .reset_index(drop=True)"
   ]
  },
  {
   "cell_type": "code",
   "execution_count": 19,
   "metadata": {},
   "outputs": [
    {
     "data": {
      "text/html": [
       "<div>\n",
       "<style scoped>\n",
       "    .dataframe tbody tr th:only-of-type {\n",
       "        vertical-align: middle;\n",
       "    }\n",
       "\n",
       "    .dataframe tbody tr th {\n",
       "        vertical-align: top;\n",
       "    }\n",
       "\n",
       "    .dataframe thead th {\n",
       "        text-align: right;\n",
       "    }\n",
       "</style>\n",
       "<table border=\"1\" class=\"dataframe\">\n",
       "  <thead>\n",
       "    <tr style=\"text-align: right;\">\n",
       "      <th></th>\n",
       "      <th>country_area</th>\n",
       "      <th>2020</th>\n",
       "    </tr>\n",
       "  </thead>\n",
       "  <tbody>\n",
       "    <tr>\n",
       "      <th>0</th>\n",
       "      <td>Burundi</td>\n",
       "      <td>11890.8</td>\n",
       "    </tr>\n",
       "    <tr>\n",
       "      <th>1</th>\n",
       "      <td>Comoros</td>\n",
       "      <td>869.595</td>\n",
       "    </tr>\n",
       "    <tr>\n",
       "      <th>2</th>\n",
       "      <td>Djibouti</td>\n",
       "      <td>988.002</td>\n",
       "    </tr>\n",
       "    <tr>\n",
       "      <th>3</th>\n",
       "      <td>Eritrea</td>\n",
       "      <td>3546.43</td>\n",
       "    </tr>\n",
       "    <tr>\n",
       "      <th>4</th>\n",
       "      <td>Ethiopia</td>\n",
       "      <td>114964</td>\n",
       "    </tr>\n",
       "  </tbody>\n",
       "</table>\n",
       "</div>"
      ],
      "text/plain": [
       "  country_area     2020\n",
       "0      Burundi  11890.8\n",
       "1      Comoros  869.595\n",
       "2     Djibouti  988.002\n",
       "3      Eritrea  3546.43\n",
       "4     Ethiopia   114964"
      ]
     },
     "execution_count": 19,
     "metadata": {},
     "output_type": "execute_result"
    }
   ],
   "source": [
    "population_2020.head()"
   ]
  },
  {
   "cell_type": "code",
   "execution_count": 20,
   "metadata": {},
   "outputs": [
    {
     "data": {
      "text/html": [
       "<div>\n",
       "<style scoped>\n",
       "    .dataframe tbody tr th:only-of-type {\n",
       "        vertical-align: middle;\n",
       "    }\n",
       "\n",
       "    .dataframe tbody tr th {\n",
       "        vertical-align: top;\n",
       "    }\n",
       "\n",
       "    .dataframe thead th {\n",
       "        text-align: right;\n",
       "    }\n",
       "</style>\n",
       "<table border=\"1\" class=\"dataframe\">\n",
       "  <thead>\n",
       "    <tr style=\"text-align: right;\">\n",
       "      <th></th>\n",
       "      <th>country_area</th>\n",
       "      <th>2020</th>\n",
       "    </tr>\n",
       "  </thead>\n",
       "  <tbody>\n",
       "    <tr>\n",
       "      <th>4</th>\n",
       "      <td>Ethiopia</td>\n",
       "      <td>114964</td>\n",
       "    </tr>\n",
       "  </tbody>\n",
       "</table>\n",
       "</div>"
      ],
      "text/plain": [
       "  country_area    2020\n",
       "4     Ethiopia  114964"
      ]
     },
     "execution_count": 20,
     "metadata": {},
     "output_type": "execute_result"
    }
   ],
   "source": [
    "population_2020[population_2020.country_area == 'Ethiopia']"
   ]
  },
  {
   "cell_type": "code",
   "execution_count": 21,
   "metadata": {},
   "outputs": [],
   "source": [
    "# removing the points that causes a wrong interpretation of the actual number\n",
    "population_2020['2020'] = population_2020['2020'].astype(str) \\\n",
    "                                .apply(lambda x: x.replace('.', '')) \\\n",
    "                                .astype(int)"
   ]
  },
  {
   "cell_type": "code",
   "execution_count": 22,
   "metadata": {},
   "outputs": [
    {
     "data": {
      "text/html": [
       "<div>\n",
       "<style scoped>\n",
       "    .dataframe tbody tr th:only-of-type {\n",
       "        vertical-align: middle;\n",
       "    }\n",
       "\n",
       "    .dataframe tbody tr th {\n",
       "        vertical-align: top;\n",
       "    }\n",
       "\n",
       "    .dataframe thead th {\n",
       "        text-align: right;\n",
       "    }\n",
       "</style>\n",
       "<table border=\"1\" class=\"dataframe\">\n",
       "  <thead>\n",
       "    <tr style=\"text-align: right;\">\n",
       "      <th></th>\n",
       "      <th>country_area</th>\n",
       "      <th>2020</th>\n",
       "    </tr>\n",
       "  </thead>\n",
       "  <tbody>\n",
       "    <tr>\n",
       "      <th>0</th>\n",
       "      <td>Burundi</td>\n",
       "      <td>11890781</td>\n",
       "    </tr>\n",
       "    <tr>\n",
       "      <th>1</th>\n",
       "      <td>Comoros</td>\n",
       "      <td>869595</td>\n",
       "    </tr>\n",
       "    <tr>\n",
       "      <th>2</th>\n",
       "      <td>Djibouti</td>\n",
       "      <td>988002</td>\n",
       "    </tr>\n",
       "    <tr>\n",
       "      <th>3</th>\n",
       "      <td>Eritrea</td>\n",
       "      <td>3546427</td>\n",
       "    </tr>\n",
       "    <tr>\n",
       "      <th>4</th>\n",
       "      <td>Ethiopia</td>\n",
       "      <td>114963583</td>\n",
       "    </tr>\n",
       "  </tbody>\n",
       "</table>\n",
       "</div>"
      ],
      "text/plain": [
       "  country_area       2020\n",
       "0      Burundi   11890781\n",
       "1      Comoros     869595\n",
       "2     Djibouti     988002\n",
       "3      Eritrea    3546427\n",
       "4     Ethiopia  114963583"
      ]
     },
     "execution_count": 22,
     "metadata": {},
     "output_type": "execute_result"
    }
   ],
   "source": [
    "population_2020.head()"
   ]
  },
  {
   "cell_type": "markdown",
   "metadata": {},
   "source": [
    "## 3. First Exploratory data analysis"
   ]
  },
  {
   "cell_type": "markdown",
   "metadata": {},
   "source": [
    "Seeing the countries of each dataframe -> it'll be the key in the merge step."
   ]
  },
  {
   "cell_type": "code",
   "execution_count": 23,
   "metadata": {},
   "outputs": [
    {
     "data": {
      "text/plain": [
       "216"
      ]
     },
     "execution_count": 23,
     "metadata": {},
     "output_type": "execute_result"
    }
   ],
   "source": [
    "covid['country'].nunique()"
   ]
  },
  {
   "cell_type": "code",
   "execution_count": 24,
   "metadata": {},
   "outputs": [
    {
     "data": {
      "text/plain": [
       "235"
      ]
     },
     "execution_count": 24,
     "metadata": {},
     "output_type": "execute_result"
    }
   ],
   "source": [
    "population_density_2020['country_area'].nunique()"
   ]
  },
  {
   "cell_type": "code",
   "execution_count": 25,
   "metadata": {},
   "outputs": [
    {
     "data": {
      "text/plain": [
       "201"
      ]
     },
     "execution_count": 25,
     "metadata": {},
     "output_type": "execute_result"
    }
   ],
   "source": [
    "median_age_2020['country_area'].nunique()"
   ]
  },
  {
   "cell_type": "code",
   "execution_count": 26,
   "metadata": {},
   "outputs": [
    {
     "data": {
      "text/plain": [
       "235"
      ]
     },
     "execution_count": 26,
     "metadata": {},
     "output_type": "execute_result"
    }
   ],
   "source": [
    "population_2020['country_area'].nunique()"
   ]
  },
  {
   "cell_type": "markdown",
   "metadata": {},
   "source": [
    "### covid dataset"
   ]
  },
  {
   "cell_type": "code",
   "execution_count": 27,
   "metadata": {},
   "outputs": [
    {
     "data": {
      "text/plain": [
       "(31985, 8)"
      ]
     },
     "execution_count": 27,
     "metadata": {},
     "output_type": "execute_result"
    }
   ],
   "source": [
    "covid.shape"
   ]
  },
  {
   "cell_type": "code",
   "execution_count": 28,
   "metadata": {
    "scrolled": true
   },
   "outputs": [
    {
     "data": {
      "text/html": [
       "<div>\n",
       "<style scoped>\n",
       "    .dataframe tbody tr th:only-of-type {\n",
       "        vertical-align: middle;\n",
       "    }\n",
       "\n",
       "    .dataframe tbody tr th {\n",
       "        vertical-align: top;\n",
       "    }\n",
       "\n",
       "    .dataframe thead th {\n",
       "        text-align: right;\n",
       "    }\n",
       "</style>\n",
       "<table border=\"1\" class=\"dataframe\">\n",
       "  <thead>\n",
       "    <tr style=\"text-align: right;\">\n",
       "      <th></th>\n",
       "      <th>new_cases</th>\n",
       "      <th>cumulative_cases</th>\n",
       "      <th>new_deaths</th>\n",
       "      <th>cumulative_deaths</th>\n",
       "    </tr>\n",
       "  </thead>\n",
       "  <tbody>\n",
       "    <tr>\n",
       "      <th>count</th>\n",
       "      <td>31985.000000</td>\n",
       "      <td>3.198500e+04</td>\n",
       "      <td>31985.000000</td>\n",
       "      <td>31985.000000</td>\n",
       "    </tr>\n",
       "    <tr>\n",
       "      <th>mean</th>\n",
       "      <td>542.590308</td>\n",
       "      <td>2.750032e+04</td>\n",
       "      <td>21.081476</td>\n",
       "      <td>1422.345474</td>\n",
       "    </tr>\n",
       "    <tr>\n",
       "      <th>std</th>\n",
       "      <td>3306.080508</td>\n",
       "      <td>1.651532e+05</td>\n",
       "      <td>127.359363</td>\n",
       "      <td>7985.056783</td>\n",
       "    </tr>\n",
       "    <tr>\n",
       "      <th>min</th>\n",
       "      <td>-3525.000000</td>\n",
       "      <td>1.000000e+00</td>\n",
       "      <td>-514.000000</td>\n",
       "      <td>0.000000</td>\n",
       "    </tr>\n",
       "    <tr>\n",
       "      <th>25%</th>\n",
       "      <td>0.000000</td>\n",
       "      <td>4.800000e+01</td>\n",
       "      <td>0.000000</td>\n",
       "      <td>0.000000</td>\n",
       "    </tr>\n",
       "    <tr>\n",
       "      <th>50%</th>\n",
       "      <td>7.000000</td>\n",
       "      <td>6.290000e+02</td>\n",
       "      <td>0.000000</td>\n",
       "      <td>11.000000</td>\n",
       "    </tr>\n",
       "    <tr>\n",
       "      <th>75%</th>\n",
       "      <td>113.000000</td>\n",
       "      <td>5.923000e+03</td>\n",
       "      <td>2.000000</td>\n",
       "      <td>116.000000</td>\n",
       "    </tr>\n",
       "    <tr>\n",
       "      <th>max</th>\n",
       "      <td>74354.000000</td>\n",
       "      <td>4.456389e+06</td>\n",
       "      <td>6409.000000</td>\n",
       "      <td>151265.000000</td>\n",
       "    </tr>\n",
       "  </tbody>\n",
       "</table>\n",
       "</div>"
      ],
      "text/plain": [
       "          new_cases  cumulative_cases    new_deaths  cumulative_deaths\n",
       "count  31985.000000      3.198500e+04  31985.000000       31985.000000\n",
       "mean     542.590308      2.750032e+04     21.081476        1422.345474\n",
       "std     3306.080508      1.651532e+05    127.359363        7985.056783\n",
       "min    -3525.000000      1.000000e+00   -514.000000           0.000000\n",
       "25%        0.000000      4.800000e+01      0.000000           0.000000\n",
       "50%        7.000000      6.290000e+02      0.000000          11.000000\n",
       "75%      113.000000      5.923000e+03      2.000000         116.000000\n",
       "max    74354.000000      4.456389e+06   6409.000000      151265.000000"
      ]
     },
     "execution_count": 28,
     "metadata": {},
     "output_type": "execute_result"
    }
   ],
   "source": [
    "covid.describe()"
   ]
  },
  {
   "cell_type": "code",
   "execution_count": 29,
   "metadata": {},
   "outputs": [
    {
     "data": {
      "text/plain": [
       "107"
      ]
     },
     "execution_count": 29,
     "metadata": {},
     "output_type": "execute_result"
    }
   ],
   "source": [
    "covid[(covid['new_cases'] < 0) | (covid['new_deaths'] < 0)].count()['date_reported']"
   ]
  },
  {
   "cell_type": "markdown",
   "metadata": {},
   "source": [
    "There are 107 observations where **new_cases** or **new_deaths** have a negative number. <br>\n",
    "*How are we going to handle with this?*"
   ]
  },
  {
   "cell_type": "code",
   "execution_count": 30,
   "metadata": {},
   "outputs": [
    {
     "data": {
      "text/html": [
       "<div>\n",
       "<style scoped>\n",
       "    .dataframe tbody tr th:only-of-type {\n",
       "        vertical-align: middle;\n",
       "    }\n",
       "\n",
       "    .dataframe tbody tr th {\n",
       "        vertical-align: top;\n",
       "    }\n",
       "\n",
       "    .dataframe thead th {\n",
       "        text-align: right;\n",
       "    }\n",
       "</style>\n",
       "<table border=\"1\" class=\"dataframe\">\n",
       "  <thead>\n",
       "    <tr style=\"text-align: right;\">\n",
       "      <th></th>\n",
       "      <th>date_reported</th>\n",
       "      <th>country_code</th>\n",
       "      <th>country</th>\n",
       "      <th>who_region</th>\n",
       "      <th>new_cases</th>\n",
       "      <th>cumulative_cases</th>\n",
       "      <th>new_deaths</th>\n",
       "      <th>cumulative_deaths</th>\n",
       "    </tr>\n",
       "  </thead>\n",
       "  <tbody>\n",
       "    <tr>\n",
       "      <th>8387</th>\n",
       "      <td>2020-03-10</td>\n",
       "      <td>EC</td>\n",
       "      <td>Ecuador</td>\n",
       "      <td>AMRO</td>\n",
       "      <td>0</td>\n",
       "      <td>19</td>\n",
       "      <td>0</td>\n",
       "      <td>0</td>\n",
       "    </tr>\n",
       "    <tr>\n",
       "      <th>8388</th>\n",
       "      <td>2020-03-11</td>\n",
       "      <td>EC</td>\n",
       "      <td>Ecuador</td>\n",
       "      <td>AMRO</td>\n",
       "      <td>0</td>\n",
       "      <td>19</td>\n",
       "      <td>0</td>\n",
       "      <td>0</td>\n",
       "    </tr>\n",
       "    <tr>\n",
       "      <th>8389</th>\n",
       "      <td>2020-03-12</td>\n",
       "      <td>EC</td>\n",
       "      <td>Ecuador</td>\n",
       "      <td>AMRO</td>\n",
       "      <td>2</td>\n",
       "      <td>21</td>\n",
       "      <td>0</td>\n",
       "      <td>0</td>\n",
       "    </tr>\n",
       "    <tr>\n",
       "      <th>8390</th>\n",
       "      <td>2020-03-13</td>\n",
       "      <td>EC</td>\n",
       "      <td>Ecuador</td>\n",
       "      <td>AMRO</td>\n",
       "      <td>6</td>\n",
       "      <td>27</td>\n",
       "      <td>0</td>\n",
       "      <td>0</td>\n",
       "    </tr>\n",
       "    <tr>\n",
       "      <th>8391</th>\n",
       "      <td>2020-03-14</td>\n",
       "      <td>EC</td>\n",
       "      <td>Ecuador</td>\n",
       "      <td>AMRO</td>\n",
       "      <td>0</td>\n",
       "      <td>27</td>\n",
       "      <td>0</td>\n",
       "      <td>0</td>\n",
       "    </tr>\n",
       "    <tr>\n",
       "      <th>8392</th>\n",
       "      <td>2020-03-15</td>\n",
       "      <td>EC</td>\n",
       "      <td>Ecuador</td>\n",
       "      <td>AMRO</td>\n",
       "      <td>0</td>\n",
       "      <td>27</td>\n",
       "      <td>0</td>\n",
       "      <td>0</td>\n",
       "    </tr>\n",
       "  </tbody>\n",
       "</table>\n",
       "</div>"
      ],
      "text/plain": [
       "     date_reported country_code  country who_region  new_cases  \\\n",
       "8387    2020-03-10           EC  Ecuador       AMRO          0   \n",
       "8388    2020-03-11           EC  Ecuador       AMRO          0   \n",
       "8389    2020-03-12           EC  Ecuador       AMRO          2   \n",
       "8390    2020-03-13           EC  Ecuador       AMRO          6   \n",
       "8391    2020-03-14           EC  Ecuador       AMRO          0   \n",
       "8392    2020-03-15           EC  Ecuador       AMRO          0   \n",
       "\n",
       "      cumulative_cases  new_deaths  cumulative_deaths  \n",
       "8387                19           0                  0  \n",
       "8388                19           0                  0  \n",
       "8389                21           0                  0  \n",
       "8390                27           0                  0  \n",
       "8391                27           0                  0  \n",
       "8392                27           0                  0  "
      ]
     },
     "execution_count": 30,
     "metadata": {},
     "output_type": "execute_result"
    }
   ],
   "source": [
    "covid.iloc[8387:8393]"
   ]
  },
  {
   "cell_type": "code",
   "execution_count": 31,
   "metadata": {},
   "outputs": [
    {
     "data": {
      "text/html": [
       "<div>\n",
       "<style scoped>\n",
       "    .dataframe tbody tr th:only-of-type {\n",
       "        vertical-align: middle;\n",
       "    }\n",
       "\n",
       "    .dataframe tbody tr th {\n",
       "        vertical-align: top;\n",
       "    }\n",
       "\n",
       "    .dataframe thead th {\n",
       "        text-align: right;\n",
       "    }\n",
       "</style>\n",
       "<table border=\"1\" class=\"dataframe\">\n",
       "  <thead>\n",
       "    <tr style=\"text-align: right;\">\n",
       "      <th></th>\n",
       "      <th>date_reported</th>\n",
       "      <th>country_code</th>\n",
       "      <th>country</th>\n",
       "      <th>who_region</th>\n",
       "      <th>new_cases</th>\n",
       "      <th>cumulative_cases</th>\n",
       "      <th>new_deaths</th>\n",
       "      <th>cumulative_deaths</th>\n",
       "    </tr>\n",
       "  </thead>\n",
       "  <tbody>\n",
       "    <tr>\n",
       "      <th>4638</th>\n",
       "      <td>2020-06-11</td>\n",
       "      <td>BF</td>\n",
       "      <td>Burkina Faso</td>\n",
       "      <td>AFRO</td>\n",
       "      <td>0</td>\n",
       "      <td>891</td>\n",
       "      <td>0</td>\n",
       "      <td>53</td>\n",
       "    </tr>\n",
       "    <tr>\n",
       "      <th>4639</th>\n",
       "      <td>2020-06-12</td>\n",
       "      <td>BF</td>\n",
       "      <td>Burkina Faso</td>\n",
       "      <td>AFRO</td>\n",
       "      <td>0</td>\n",
       "      <td>891</td>\n",
       "      <td>0</td>\n",
       "      <td>53</td>\n",
       "    </tr>\n",
       "    <tr>\n",
       "      <th>4640</th>\n",
       "      <td>2020-06-13</td>\n",
       "      <td>BF</td>\n",
       "      <td>Burkina Faso</td>\n",
       "      <td>AFRO</td>\n",
       "      <td>1</td>\n",
       "      <td>892</td>\n",
       "      <td>0</td>\n",
       "      <td>53</td>\n",
       "    </tr>\n",
       "  </tbody>\n",
       "</table>\n",
       "</div>"
      ],
      "text/plain": [
       "     date_reported country_code       country who_region  new_cases  \\\n",
       "4638    2020-06-11           BF  Burkina Faso       AFRO          0   \n",
       "4639    2020-06-12           BF  Burkina Faso       AFRO          0   \n",
       "4640    2020-06-13           BF  Burkina Faso       AFRO          1   \n",
       "\n",
       "      cumulative_cases  new_deaths  cumulative_deaths  \n",
       "4638               891           0                 53  \n",
       "4639               891           0                 53  \n",
       "4640               892           0                 53  "
      ]
     },
     "execution_count": 31,
     "metadata": {},
     "output_type": "execute_result"
    }
   ],
   "source": [
    "covid[4638:4641]"
   ]
  },
  {
   "cell_type": "code",
   "execution_count": 32,
   "metadata": {},
   "outputs": [
    {
     "name": "stdout",
     "output_type": "stream",
     "text": [
      "<class 'pandas.core.frame.DataFrame'>\n",
      "RangeIndex: 31985 entries, 0 to 31984\n",
      "Data columns (total 8 columns):\n",
      "date_reported        31985 non-null object\n",
      "country_code         31845 non-null object\n",
      "country              31985 non-null object\n",
      "who_region           31985 non-null object\n",
      "new_cases            31985 non-null int64\n",
      "cumulative_cases     31985 non-null int64\n",
      "new_deaths           31985 non-null int64\n",
      "cumulative_deaths    31985 non-null int64\n",
      "dtypes: int64(4), object(4)\n",
      "memory usage: 2.0+ MB\n"
     ]
    }
   ],
   "source": [
    "covid.info()"
   ]
  },
  {
   "cell_type": "markdown",
   "metadata": {},
   "source": [
    "Here we can see some missing values in **country_code**. <br>\n",
    "convert **date_reported** to datetime."
   ]
  },
  {
   "cell_type": "code",
   "execution_count": 33,
   "metadata": {},
   "outputs": [],
   "source": [
    "covid['date_reported'] = pd.to_datetime(covid['date_reported'])"
   ]
  },
  {
   "cell_type": "code",
   "execution_count": 34,
   "metadata": {
    "scrolled": true
   },
   "outputs": [
    {
     "name": "stdout",
     "output_type": "stream",
     "text": [
      "<class 'pandas.core.frame.DataFrame'>\n",
      "RangeIndex: 31985 entries, 0 to 31984\n",
      "Data columns (total 8 columns):\n",
      "date_reported        31985 non-null datetime64[ns]\n",
      "country_code         31845 non-null object\n",
      "country              31985 non-null object\n",
      "who_region           31985 non-null object\n",
      "new_cases            31985 non-null int64\n",
      "cumulative_cases     31985 non-null int64\n",
      "new_deaths           31985 non-null int64\n",
      "cumulative_deaths    31985 non-null int64\n",
      "dtypes: datetime64[ns](1), int64(4), object(3)\n",
      "memory usage: 2.0+ MB\n"
     ]
    }
   ],
   "source": [
    "covid.info()"
   ]
  },
  {
   "cell_type": "code",
   "execution_count": 35,
   "metadata": {},
   "outputs": [
    {
     "data": {
      "text/plain": [
       "date_reported          0\n",
       "country_code         140\n",
       "country                0\n",
       "who_region             0\n",
       "new_cases              0\n",
       "cumulative_cases       0\n",
       "new_deaths             0\n",
       "cumulative_deaths      0\n",
       "dtype: int64"
      ]
     },
     "execution_count": 35,
     "metadata": {},
     "output_type": "execute_result"
    }
   ],
   "source": [
    "covid.isnull().sum()"
   ]
  },
  {
   "cell_type": "markdown",
   "metadata": {},
   "source": [
    "139 missing values in **country_code**. <br>\n",
    "It's not a big problem."
   ]
  },
  {
   "cell_type": "code",
   "execution_count": 36,
   "metadata": {},
   "outputs": [
    {
     "data": {
      "text/plain": [
       "array(['Afghanistan', 'Albania', 'Algeria', 'Andorra', 'Angola',\n",
       "       'Anguilla', 'Antigua and Barbuda', 'Argentina', 'Armenia', 'Aruba',\n",
       "       'Australia', 'Austria', 'Azerbaijan', 'Bahamas', 'Bahrain',\n",
       "       'Bangladesh', 'Barbados', 'Belarus', 'Belgium', 'Belize', 'Benin',\n",
       "       'Bermuda', 'Bhutan', 'Bolivia (Plurinational State of)',\n",
       "       'Bonaire, Sint Eustatius and Saba', 'Bosnia and Herzegovina',\n",
       "       'Botswana', 'Brazil', 'British Virgin Islands',\n",
       "       'Brunei Darussalam', 'Bulgaria', 'Burkina Faso', 'Burundi',\n",
       "       'Cabo Verde', 'Cambodia', 'Cameroon', 'Canada', 'Cayman Islands',\n",
       "       'Central African Republic', 'Chad', 'Chile', 'China', 'Colombia',\n",
       "       'Comoros', 'Congo', 'Costa Rica', 'Côte d’Ivoire', 'Croatia',\n",
       "       'Cuba', 'Curaçao', 'Cyprus', 'Czechia',\n",
       "       'Democratic Republic of the Congo', 'Denmark', 'Djibouti',\n",
       "       'Dominica', 'Dominican Republic', 'Ecuador', 'Egypt',\n",
       "       'El Salvador', 'Equatorial Guinea', 'Eritrea', 'Estonia',\n",
       "       'Eswatini', 'Ethiopia', 'Falkland Islands (Malvinas)',\n",
       "       'Faroe Islands', 'Fiji', 'Finland', 'France', 'French Guiana',\n",
       "       'French Polynesia', 'Gabon', 'Gambia', 'Georgia', 'Germany',\n",
       "       'Ghana', 'Gibraltar', 'Greece', 'Greenland', 'Grenada',\n",
       "       'Guadeloupe', 'Guam', 'Guatemala', 'Guernsey', 'Guinea',\n",
       "       'Guinea-Bissau', 'Guyana', 'Haiti', 'Holy See', 'Honduras',\n",
       "       'Hungary', 'Iceland', 'India', 'Indonesia',\n",
       "       'Iran (Islamic Republic of)', 'Iraq', 'Ireland', 'Isle of Man',\n",
       "       'Israel', 'Italy', 'Jamaica', 'Japan', 'Jersey', 'Jordan',\n",
       "       'Kazakhstan', 'Kenya', 'Kosovo[1]', 'Kuwait', 'Kyrgyzstan',\n",
       "       \"Lao People's Democratic Republic\", 'Latvia', 'Lebanon', 'Lesotho',\n",
       "       'Liberia', 'Libya', 'Liechtenstein', 'Lithuania', 'Luxembourg',\n",
       "       'Madagascar', 'Malawi', 'Malaysia', 'Maldives', 'Mali', 'Malta',\n",
       "       'Martinique', 'Mauritania', 'Mauritius', 'Mayotte', 'Mexico',\n",
       "       'Monaco', 'Mongolia', 'Montenegro', 'Montserrat', 'Morocco',\n",
       "       'Mozambique', 'Myanmar', 'Namibia', 'Nepal', 'Netherlands',\n",
       "       'New Caledonia', 'New Zealand', 'Nicaragua', 'Niger', 'Nigeria',\n",
       "       'North Macedonia',\n",
       "       'Northern Mariana Islands (Commonwealth of the)', 'Norway',\n",
       "       'occupied Palestinian territory, including east Jerusalem', 'Oman',\n",
       "       'Other', 'Pakistan', 'Panama', 'Papua New Guinea', 'Paraguay',\n",
       "       'Peru', 'Philippines', 'Poland', 'Portugal', 'Puerto Rico',\n",
       "       'Qatar', 'Republic of Korea', 'Republic of Moldova', 'Réunion',\n",
       "       'Romania', 'Russian Federation', 'Rwanda', 'Saint Barthélemy',\n",
       "       'Saint Kitts and Nevis', 'Saint Lucia', 'Saint Martin',\n",
       "       'Saint Pierre and Miquelon', 'Saint Vincent and the Grenadines',\n",
       "       'San Marino', 'Sao Tome and Principe', 'Saudi Arabia', 'Senegal',\n",
       "       'Serbia', 'Seychelles', 'Sierra Leone', 'Singapore',\n",
       "       'Sint Maarten', 'Slovakia', 'Slovenia', 'Somalia', 'South Africa',\n",
       "       'South Sudan', 'Spain', 'Sri Lanka', 'Sudan', 'Suriname', 'Sweden',\n",
       "       'Switzerland', 'Syrian Arab Republic', 'Tajikistan', 'Thailand',\n",
       "       'The United Kingdom', 'Timor-Leste', 'Togo', 'Trinidad and Tobago',\n",
       "       'Tunisia', 'Turkey', 'Turks and Caicos Islands', 'Uganda',\n",
       "       'Ukraine', 'United Arab Emirates', 'United Republic of Tanzania',\n",
       "       'United States of America', 'United States Virgin Islands',\n",
       "       'Uruguay', 'Uzbekistan', 'Venezuela (Bolivarian Republic of)',\n",
       "       'Viet Nam', 'Yemen', 'Zambia', 'Zimbabwe'], dtype=object)"
      ]
     },
     "execution_count": 36,
     "metadata": {},
     "output_type": "execute_result"
    }
   ],
   "source": [
    "covid['country'].unique()"
   ]
  },
  {
   "cell_type": "code",
   "execution_count": 37,
   "metadata": {},
   "outputs": [
    {
     "data": {
      "text/plain": [
       "216"
      ]
     },
     "execution_count": 37,
     "metadata": {},
     "output_type": "execute_result"
    }
   ],
   "source": [
    "covid['country'].nunique()"
   ]
  },
  {
   "cell_type": "code",
   "execution_count": 38,
   "metadata": {},
   "outputs": [
    {
     "data": {
      "text/plain": [
       "215"
      ]
     },
     "execution_count": 38,
     "metadata": {},
     "output_type": "execute_result"
    }
   ],
   "source": [
    "covid['country_code'].nunique()"
   ]
  },
  {
   "cell_type": "code",
   "execution_count": 39,
   "metadata": {},
   "outputs": [
    {
     "data": {
      "text/plain": [
       "array(['AF', 'AL', 'DZ', 'AD', 'AO', 'AI', 'AG', 'AR', 'AM', 'AW', 'AU',\n",
       "       'AT', 'AZ', 'BS', 'BH', 'BD', 'BB', 'BY', 'BE', 'BZ', 'BJ', 'BM',\n",
       "       'BT', 'BO', 'BQ', 'BA', 'BW', 'BR', 'VG', 'BN', 'BG', 'BF', 'BI',\n",
       "       'CV', 'KH', 'CM', 'CA', 'KY', 'CF', 'TD', 'CL', 'CN', 'CO', 'KM',\n",
       "       'CG', 'CR', 'CI', 'HR', 'CU', 'CW', 'CY', 'CZ', 'CD', 'DK', 'DJ',\n",
       "       'DM', 'DO', 'EC', 'EG', 'SV', 'GQ', 'ER', 'EE', 'SZ', 'ET', 'FK',\n",
       "       'FO', 'FJ', 'FI', 'FR', 'GF', 'PF', 'GA', 'GM', 'GE', 'DE', 'GH',\n",
       "       'GI', 'GR', 'GL', 'GD', 'GP', 'GU', 'GT', 'GG', 'GN', 'GW', 'GY',\n",
       "       'HT', 'VA', 'HN', 'HU', 'IS', 'IN', 'ID', 'IR', 'IQ', 'IE', 'IM',\n",
       "       'IL', 'IT', 'JM', 'JP', 'JE', 'JO', 'KZ', 'KE', 'XK', 'KW', 'KG',\n",
       "       'LA', 'LV', 'LB', 'LS', 'LR', 'LY', 'LI', 'LT', 'LU', 'MG', 'MW',\n",
       "       'MY', 'MV', 'ML', 'MT', 'MQ', 'MR', 'MU', 'YT', 'MX', 'MC', 'MN',\n",
       "       'ME', 'MS', 'MA', 'MZ', 'MM', nan, 'NP', 'NL', 'NC', 'NZ', 'NI',\n",
       "       'NE', 'NG', 'MK', 'MP', 'NO', 'PS', 'OM', ' ', 'PK', 'PA', 'PG',\n",
       "       'PY', 'PE', 'PH', 'PL', 'PT', 'PR', 'QA', 'KR', 'MD', 'RE', 'RO',\n",
       "       'RU', 'RW', 'BL', 'KN', 'LC', 'MF', 'PM', 'VC', 'SM', 'ST', 'SA',\n",
       "       'SN', 'RS', 'SC', 'SL', 'SG', 'SX', 'SK', 'SI', 'SO', 'ZA', 'SS',\n",
       "       'ES', 'LK', 'SD', 'SR', 'SE', 'CH', 'SY', 'TJ', 'TH', 'GB', 'TL',\n",
       "       'TG', 'TT', 'TN', 'TR', 'TC', 'UG', 'UA', 'AE', 'TZ', 'US', 'VI',\n",
       "       'UY', 'UZ', 'VE', 'VN', 'YE', 'ZM', 'ZW'], dtype=object)"
      ]
     },
     "execution_count": 39,
     "metadata": {},
     "output_type": "execute_result"
    }
   ],
   "source": [
    "covid['country_code'].unique()"
   ]
  },
  {
   "cell_type": "markdown",
   "metadata": {},
   "source": [
    "There is a empty country code."
   ]
  },
  {
   "cell_type": "code",
   "execution_count": 40,
   "metadata": {},
   "outputs": [
    {
     "data": {
      "text/html": [
       "<div>\n",
       "<style scoped>\n",
       "    .dataframe tbody tr th:only-of-type {\n",
       "        vertical-align: middle;\n",
       "    }\n",
       "\n",
       "    .dataframe tbody tr th {\n",
       "        vertical-align: top;\n",
       "    }\n",
       "\n",
       "    .dataframe thead th {\n",
       "        text-align: right;\n",
       "    }\n",
       "</style>\n",
       "<table border=\"1\" class=\"dataframe\">\n",
       "  <thead>\n",
       "    <tr style=\"text-align: right;\">\n",
       "      <th></th>\n",
       "      <th>date_reported</th>\n",
       "      <th>country_code</th>\n",
       "      <th>country</th>\n",
       "      <th>who_region</th>\n",
       "      <th>new_cases</th>\n",
       "      <th>cumulative_cases</th>\n",
       "      <th>new_deaths</th>\n",
       "      <th>cumulative_deaths</th>\n",
       "    </tr>\n",
       "  </thead>\n",
       "  <tbody>\n",
       "  </tbody>\n",
       "</table>\n",
       "</div>"
      ],
      "text/plain": [
       "Empty DataFrame\n",
       "Columns: [date_reported, country_code, country, who_region, new_cases, cumulative_cases, new_deaths, cumulative_deaths]\n",
       "Index: []"
      ]
     },
     "execution_count": 40,
     "metadata": {},
     "output_type": "execute_result"
    }
   ],
   "source": [
    "covid[covid.country == ' ']"
   ]
  },
  {
   "cell_type": "code",
   "execution_count": 41,
   "metadata": {},
   "outputs": [
    {
     "data": {
      "image/png": "[encoded data removed]",
      "text/plain": [
       "<Figure size 720x504 with 2 Axes>"
      ]
     },
     "metadata": {
      "needs_background": "light"
     },
     "output_type": "display_data"
    }
   ],
   "source": [
    "covid[['new_cases', 'new_deaths']].plot(kind='box', subplots=True, \n",
    "            grid=True, figsize=(10,7))\n",
    "plt.show()"
   ]
  },
  {
   "cell_type": "code",
   "execution_count": 42,
   "metadata": {},
   "outputs": [
    {
     "data": {
      "text/html": [
       "<div>\n",
       "<style scoped>\n",
       "    .dataframe tbody tr th:only-of-type {\n",
       "        vertical-align: middle;\n",
       "    }\n",
       "\n",
       "    .dataframe tbody tr th {\n",
       "        vertical-align: top;\n",
       "    }\n",
       "\n",
       "    .dataframe thead th {\n",
       "        text-align: right;\n",
       "    }\n",
       "</style>\n",
       "<table border=\"1\" class=\"dataframe\">\n",
       "  <thead>\n",
       "    <tr style=\"text-align: right;\">\n",
       "      <th></th>\n",
       "      <th>date_reported</th>\n",
       "      <th>country_code</th>\n",
       "      <th>country</th>\n",
       "      <th>who_region</th>\n",
       "      <th>new_cases</th>\n",
       "      <th>cumulative_cases</th>\n",
       "      <th>new_deaths</th>\n",
       "      <th>cumulative_deaths</th>\n",
       "    </tr>\n",
       "  </thead>\n",
       "  <tbody>\n",
       "    <tr>\n",
       "      <th>30742</th>\n",
       "      <td>2020-04-17</td>\n",
       "      <td>US</td>\n",
       "      <td>United States of America</td>\n",
       "      <td>AMRO</td>\n",
       "      <td>28711</td>\n",
       "      <td>632781</td>\n",
       "      <td>6409</td>\n",
       "      <td>32280</td>\n",
       "    </tr>\n",
       "    <tr>\n",
       "      <th>30758</th>\n",
       "      <td>2020-05-03</td>\n",
       "      <td>US</td>\n",
       "      <td>United States of America</td>\n",
       "      <td>AMRO</td>\n",
       "      <td>26753</td>\n",
       "      <td>1093880</td>\n",
       "      <td>5000</td>\n",
       "      <td>67637</td>\n",
       "    </tr>\n",
       "  </tbody>\n",
       "</table>\n",
       "</div>"
      ],
      "text/plain": [
       "      date_reported country_code                   country who_region  \\\n",
       "30742    2020-04-17           US  United States of America       AMRO   \n",
       "30758    2020-05-03           US  United States of America       AMRO   \n",
       "\n",
       "       new_cases  cumulative_cases  new_deaths  cumulative_deaths  \n",
       "30742      28711            632781        6409              32280  \n",
       "30758      26753           1093880        5000              67637  "
      ]
     },
     "execution_count": 42,
     "metadata": {},
     "output_type": "execute_result"
    }
   ],
   "source": [
    "covid[covid.new_deaths >= 5000]"
   ]
  },
  {
   "cell_type": "markdown",
   "metadata": {},
   "source": [
    "Is it real?"
   ]
  },
  {
   "cell_type": "code",
   "execution_count": 43,
   "metadata": {},
   "outputs": [
    {
     "data": {
      "image/png": "[encoded data removed]",
      "text/plain": [
       "<Figure size 432x288 with 1 Axes>"
      ]
     },
     "metadata": {
      "needs_background": "light"
     },
     "output_type": "display_data"
    }
   ],
   "source": [
    "covid.plot(kind='scatter', x='new_cases', \n",
    "           y='new_deaths', color='xkcd:teal')\n",
    "plt.show()"
   ]
  },
  {
   "cell_type": "code",
   "execution_count": 44,
   "metadata": {},
   "outputs": [
    {
     "data": {
      "image/png": "[encoded data removed]",
      "text/plain": [
       "<Figure size 864x432 with 2 Axes>"
      ]
     },
     "metadata": {
      "needs_background": "light"
     },
     "output_type": "display_data"
    }
   ],
   "source": [
    "fig, ax = plt.subplots(1,2, figsize=(12,6))\n",
    "sns.distplot(covid['new_cases'], ax=ax[0])\n",
    "sns.distplot(covid['new_deaths'], ax=ax[1])\n",
    "plt.show()"
   ]
  },
  {
   "cell_type": "code",
   "execution_count": 45,
   "metadata": {},
   "outputs": [
    {
     "data": {
      "text/html": [
       "<div>\n",
       "<style scoped>\n",
       "    .dataframe tbody tr th:only-of-type {\n",
       "        vertical-align: middle;\n",
       "    }\n",
       "\n",
       "    .dataframe tbody tr th {\n",
       "        vertical-align: top;\n",
       "    }\n",
       "\n",
       "    .dataframe thead th {\n",
       "        text-align: right;\n",
       "    }\n",
       "</style>\n",
       "<table border=\"1\" class=\"dataframe\">\n",
       "  <thead>\n",
       "    <tr style=\"text-align: right;\">\n",
       "      <th></th>\n",
       "      <th>new_cases</th>\n",
       "      <th>new_deaths</th>\n",
       "    </tr>\n",
       "    <tr>\n",
       "      <th>country</th>\n",
       "      <th></th>\n",
       "      <th></th>\n",
       "    </tr>\n",
       "  </thead>\n",
       "  <tbody>\n",
       "    <tr>\n",
       "      <th>United States of America</th>\n",
       "      <td>4456389</td>\n",
       "      <td>151265</td>\n",
       "    </tr>\n",
       "    <tr>\n",
       "      <th>Brazil</th>\n",
       "      <td>2610102</td>\n",
       "      <td>91263</td>\n",
       "    </tr>\n",
       "    <tr>\n",
       "      <th>India</th>\n",
       "      <td>1695988</td>\n",
       "      <td>36511</td>\n",
       "    </tr>\n",
       "    <tr>\n",
       "      <th>Russian Federation</th>\n",
       "      <td>839981</td>\n",
       "      <td>13963</td>\n",
       "    </tr>\n",
       "    <tr>\n",
       "      <th>South Africa</th>\n",
       "      <td>482169</td>\n",
       "      <td>7812</td>\n",
       "    </tr>\n",
       "  </tbody>\n",
       "</table>\n",
       "</div>"
      ],
      "text/plain": [
       "                          new_cases  new_deaths\n",
       "country                                        \n",
       "United States of America    4456389      151265\n",
       "Brazil                      2610102       91263\n",
       "India                       1695988       36511\n",
       "Russian Federation           839981       13963\n",
       "South Africa                 482169        7812"
      ]
     },
     "execution_count": 45,
     "metadata": {},
     "output_type": "execute_result"
    }
   ],
   "source": [
    "covid_groupby_country = covid.groupby('country')[['new_cases', 'new_deaths']].sum()\n",
    "\n",
    "covid_head_countries_cases = covid_groupby_country.sort_values('new_cases', ascending=False).head()\n",
    "covid_head_countries_cases"
   ]
  },
  {
   "cell_type": "code",
   "execution_count": 46,
   "metadata": {
    "scrolled": false
   },
   "outputs": [
    {
     "name": "stdout",
     "output_type": "stream",
     "text": [
      "United States of America\n"
     ]
    },
    {
     "data": {
      "image/png": "[encoded data removed]",
      "text/plain": [
       "<Figure size 864x432 with 2 Axes>"
      ]
     },
     "metadata": {
      "needs_background": "light"
     },
     "output_type": "display_data"
    },
    {
     "name": "stdout",
     "output_type": "stream",
     "text": [
      "Brazil\n"
     ]
    },
    {
     "data": {
      "image/png": "[encoded data removed]",
      "text/plain": [
       "<Figure size 864x432 with 2 Axes>"
      ]
     },
     "metadata": {
      "needs_background": "light"
     },
     "output_type": "display_data"
    },
    {
     "name": "stdout",
     "output_type": "stream",
     "text": [
      "India\n"
     ]
    },
    {
     "data": {
      "image/png": "[encoded data removed]",
      "text/plain": [
       "<Figure size 864x432 with 2 Axes>"
      ]
     },
     "metadata": {
      "needs_background": "light"
     },
     "output_type": "display_data"
    },
    {
     "name": "stdout",
     "output_type": "stream",
     "text": [
      "Russian Federation\n"
     ]
    },
    {
     "data": {
      "image/png": "[encoded data removed]",
      "text/plain": [
       "<Figure size 864x432 with 2 Axes>"
      ]
     },
     "metadata": {
      "needs_background": "light"
     },
     "output_type": "display_data"
    },
    {
     "name": "stdout",
     "output_type": "stream",
     "text": [
      "South Africa\n"
     ]
    },
    {
     "data": {
      "image/png": "[encoded data removed]",
      "text/plain": [
       "<Figure size 864x432 with 2 Axes>"
      ]
     },
     "metadata": {
      "needs_background": "light"
     },
     "output_type": "display_data"
    }
   ],
   "source": [
    "countries = covid_head_countries_cases.index.values\n",
    "\n",
    "for country in countries:\n",
    "    print(country)\n",
    "    \n",
    "    country_df = covid[covid['country'] == country]\n",
    "    \n",
    "    fig, ax = plt.subplots(1,2, figsize=(12,6))\n",
    "    sns.distplot(country_df['new_cases'], ax=ax[0])\n",
    "    sns.distplot(country_df['new_deaths'], ax=ax[1])\n",
    "    plt.show()"
   ]
  },
  {
   "cell_type": "markdown",
   "metadata": {},
   "source": [
    "### median_age_country_area_2020"
   ]
  },
  {
   "cell_type": "code",
   "execution_count": 47,
   "metadata": {},
   "outputs": [
    {
     "data": {
      "text/html": [
       "<div>\n",
       "<style scoped>\n",
       "    .dataframe tbody tr th:only-of-type {\n",
       "        vertical-align: middle;\n",
       "    }\n",
       "\n",
       "    .dataframe tbody tr th {\n",
       "        vertical-align: top;\n",
       "    }\n",
       "\n",
       "    .dataframe thead th {\n",
       "        text-align: right;\n",
       "    }\n",
       "</style>\n",
       "<table border=\"1\" class=\"dataframe\">\n",
       "  <thead>\n",
       "    <tr style=\"text-align: right;\">\n",
       "      <th></th>\n",
       "      <th>country_area</th>\n",
       "      <th>2020</th>\n",
       "    </tr>\n",
       "  </thead>\n",
       "  <tbody>\n",
       "    <tr>\n",
       "      <th>count</th>\n",
       "      <td>201</td>\n",
       "      <td>201.00</td>\n",
       "    </tr>\n",
       "    <tr>\n",
       "      <th>unique</th>\n",
       "      <td>201</td>\n",
       "      <td>200.00</td>\n",
       "    </tr>\n",
       "    <tr>\n",
       "      <th>top</th>\n",
       "      <td>Paraguay</td>\n",
       "      <td>27.93</td>\n",
       "    </tr>\n",
       "    <tr>\n",
       "      <th>freq</th>\n",
       "      <td>1</td>\n",
       "      <td>2.00</td>\n",
       "    </tr>\n",
       "  </tbody>\n",
       "</table>\n",
       "</div>"
      ],
      "text/plain": [
       "       country_area    2020\n",
       "count           201  201.00\n",
       "unique          201  200.00\n",
       "top        Paraguay   27.93\n",
       "freq              1    2.00"
      ]
     },
     "execution_count": 47,
     "metadata": {},
     "output_type": "execute_result"
    }
   ],
   "source": [
    "median_age_2020.describe()"
   ]
  },
  {
   "cell_type": "code",
   "execution_count": 48,
   "metadata": {},
   "outputs": [
    {
     "name": "stdout",
     "output_type": "stream",
     "text": [
      "<class 'pandas.core.frame.DataFrame'>\n",
      "RangeIndex: 201 entries, 0 to 200\n",
      "Data columns (total 2 columns):\n",
      "country_area    201 non-null object\n",
      "2020            201 non-null object\n",
      "dtypes: object(2)\n",
      "memory usage: 3.2+ KB\n"
     ]
    }
   ],
   "source": [
    "median_age_2020.info()"
   ]
  },
  {
   "cell_type": "code",
   "execution_count": 49,
   "metadata": {},
   "outputs": [
    {
     "data": {
      "text/plain": [
       "country_area    0\n",
       "2020            0\n",
       "dtype: int64"
      ]
     },
     "execution_count": 49,
     "metadata": {},
     "output_type": "execute_result"
    }
   ],
   "source": [
    "median_age_2020.isnull().sum()"
   ]
  },
  {
   "cell_type": "markdown",
   "metadata": {},
   "source": [
    "### population_density_country_area_2020"
   ]
  },
  {
   "cell_type": "code",
   "execution_count": 50,
   "metadata": {},
   "outputs": [
    {
     "data": {
      "text/html": [
       "<div>\n",
       "<style scoped>\n",
       "    .dataframe tbody tr th:only-of-type {\n",
       "        vertical-align: middle;\n",
       "    }\n",
       "\n",
       "    .dataframe tbody tr th {\n",
       "        vertical-align: top;\n",
       "    }\n",
       "\n",
       "    .dataframe thead th {\n",
       "        text-align: right;\n",
       "    }\n",
       "</style>\n",
       "<table border=\"1\" class=\"dataframe\">\n",
       "  <thead>\n",
       "    <tr style=\"text-align: right;\">\n",
       "      <th></th>\n",
       "      <th>country_area</th>\n",
       "      <th>2020</th>\n",
       "    </tr>\n",
       "  </thead>\n",
       "  <tbody>\n",
       "    <tr>\n",
       "      <th>count</th>\n",
       "      <td>235</td>\n",
       "      <td>235.000000</td>\n",
       "    </tr>\n",
       "    <tr>\n",
       "      <th>unique</th>\n",
       "      <td>235</td>\n",
       "      <td>235.000000</td>\n",
       "    </tr>\n",
       "    <tr>\n",
       "      <th>top</th>\n",
       "      <td>Paraguay</td>\n",
       "      <td>56.491786</td>\n",
       "    </tr>\n",
       "    <tr>\n",
       "      <th>freq</th>\n",
       "      <td>1</td>\n",
       "      <td>1.000000</td>\n",
       "    </tr>\n",
       "  </tbody>\n",
       "</table>\n",
       "</div>"
      ],
      "text/plain": [
       "       country_area        2020\n",
       "count           235  235.000000\n",
       "unique          235  235.000000\n",
       "top        Paraguay   56.491786\n",
       "freq              1    1.000000"
      ]
     },
     "execution_count": 50,
     "metadata": {},
     "output_type": "execute_result"
    }
   ],
   "source": [
    "population_density_2020.describe()"
   ]
  },
  {
   "cell_type": "code",
   "execution_count": 51,
   "metadata": {},
   "outputs": [
    {
     "name": "stdout",
     "output_type": "stream",
     "text": [
      "<class 'pandas.core.frame.DataFrame'>\n",
      "RangeIndex: 235 entries, 0 to 234\n",
      "Data columns (total 2 columns):\n",
      "country_area    235 non-null object\n",
      "2020            235 non-null object\n",
      "dtypes: object(2)\n",
      "memory usage: 3.8+ KB\n"
     ]
    }
   ],
   "source": [
    "population_density_2020.info()"
   ]
  },
  {
   "cell_type": "markdown",
   "metadata": {},
   "source": [
    "### population_country_area_2020"
   ]
  },
  {
   "cell_type": "code",
   "execution_count": 52,
   "metadata": {},
   "outputs": [
    {
     "data": {
      "text/html": [
       "<div>\n",
       "<style scoped>\n",
       "    .dataframe tbody tr th:only-of-type {\n",
       "        vertical-align: middle;\n",
       "    }\n",
       "\n",
       "    .dataframe tbody tr th {\n",
       "        vertical-align: top;\n",
       "    }\n",
       "\n",
       "    .dataframe thead th {\n",
       "        text-align: right;\n",
       "    }\n",
       "</style>\n",
       "<table border=\"1\" class=\"dataframe\">\n",
       "  <thead>\n",
       "    <tr style=\"text-align: right;\">\n",
       "      <th></th>\n",
       "      <th>2020</th>\n",
       "    </tr>\n",
       "  </thead>\n",
       "  <tbody>\n",
       "    <tr>\n",
       "      <th>count</th>\n",
       "      <td>2.350000e+02</td>\n",
       "    </tr>\n",
       "    <tr>\n",
       "      <th>mean</th>\n",
       "      <td>3.142675e+07</td>\n",
       "    </tr>\n",
       "    <tr>\n",
       "      <th>std</th>\n",
       "      <td>1.350617e+08</td>\n",
       "    </tr>\n",
       "    <tr>\n",
       "      <th>min</th>\n",
       "      <td>1.350000e+02</td>\n",
       "    </tr>\n",
       "    <tr>\n",
       "      <th>25%</th>\n",
       "      <td>2.831975e+05</td>\n",
       "    </tr>\n",
       "    <tr>\n",
       "      <th>50%</th>\n",
       "      <td>4.033963e+06</td>\n",
       "    </tr>\n",
       "    <tr>\n",
       "      <th>75%</th>\n",
       "      <td>1.858033e+07</td>\n",
       "    </tr>\n",
       "    <tr>\n",
       "      <th>max</th>\n",
       "      <td>1.439324e+09</td>\n",
       "    </tr>\n",
       "  </tbody>\n",
       "</table>\n",
       "</div>"
      ],
      "text/plain": [
       "               2020\n",
       "count  2.350000e+02\n",
       "mean   3.142675e+07\n",
       "std    1.350617e+08\n",
       "min    1.350000e+02\n",
       "25%    2.831975e+05\n",
       "50%    4.033963e+06\n",
       "75%    1.858033e+07\n",
       "max    1.439324e+09"
      ]
     },
     "execution_count": 52,
     "metadata": {},
     "output_type": "execute_result"
    }
   ],
   "source": [
    "population_2020.describe()"
   ]
  },
  {
   "cell_type": "code",
   "execution_count": 53,
   "metadata": {},
   "outputs": [
    {
     "name": "stdout",
     "output_type": "stream",
     "text": [
      "<class 'pandas.core.frame.DataFrame'>\n",
      "RangeIndex: 235 entries, 0 to 234\n",
      "Data columns (total 2 columns):\n",
      "country_area    235 non-null object\n",
      "2020            235 non-null int64\n",
      "dtypes: int64(1), object(1)\n",
      "memory usage: 3.8+ KB\n"
     ]
    }
   ],
   "source": [
    "population_2020.info()"
   ]
  },
  {
   "cell_type": "markdown",
   "metadata": {},
   "source": [
    "### plots: distplot, hist, box\n",
    "\n",
    "- median_age_country_area_2020\n",
    "- population_density_country_area_2020\n",
    "- population_country_area_2020"
   ]
  },
  {
   "cell_type": "code",
   "execution_count": 54,
   "metadata": {
    "scrolled": false
   },
   "outputs": [
    {
     "name": "stdout",
     "output_type": "stream",
     "text": [
      "median_age_2020\n"
     ]
    },
    {
     "data": {
      "image/png": "[encoded data removed]",
      "text/plain": [
       "<Figure size 1152x432 with 3 Axes>"
      ]
     },
     "metadata": {
      "needs_background": "light"
     },
     "output_type": "display_data"
    },
    {
     "name": "stdout",
     "output_type": "stream",
     "text": [
      "population_density_2020\n"
     ]
    },
    {
     "data": {
      "image/png": "[encoded data removed]",
      "text/plain": [
       "<Figure size 1152x432 with 3 Axes>"
      ]
     },
     "metadata": {
      "needs_background": "light"
     },
     "output_type": "display_data"
    },
    {
     "name": "stdout",
     "output_type": "stream",
     "text": [
      "population_2020\n"
     ]
    },
    {
     "data": {
      "image/png": "[encoded data removed]",
      "text/plain": [
       "<Figure size 1152x432 with 3 Axes>"
      ]
     },
     "metadata": {
      "needs_background": "light"
     },
     "output_type": "display_data"
    }
   ],
   "source": [
    "median_age_2020.name = 'median_age_2020'\n",
    "population_density_2020.name = 'population_density_2020'\n",
    "population_2020.name = 'population_2020'\n",
    "\n",
    "dfs = (median_age_2020, \n",
    "       population_density_2020,\n",
    "       population_2020)\n",
    "\n",
    "for df in dfs:\n",
    "    print(df.name)\n",
    "      \n",
    "    fig, ax = plt.subplots(1,3, figsize=(16,6))\n",
    "    \n",
    "    sns.distplot(df['2020'], ax=ax[0])\n",
    "    df.plot(kind='hist', ax=ax[1])\n",
    "    df[['2020']].plot(kind='box', subplots=True, grid=True, ax=ax[2])\n",
    "\n",
    "    plt.show()"
   ]
  },
  {
   "cell_type": "markdown",
   "metadata": {},
   "source": [
    "## Merging datasets and Feature Engineering"
   ]
  },
  {
   "cell_type": "markdown",
   "metadata": {},
   "source": [
    "### first: checking the differences in dataset country names\n",
    "\n",
    "conclusion: I need a better dataset of median_age. This one has just 201 countries. Covid dataset has 216 countries."
   ]
  },
  {
   "cell_type": "code",
   "execution_count": 55,
   "metadata": {},
   "outputs": [
    {
     "data": {
      "text/plain": [
       "Series([], Name: country_area, dtype: object)"
      ]
     },
     "execution_count": 55,
     "metadata": {},
     "output_type": "execute_result"
    }
   ],
   "source": [
    "pd.concat([population_density_2020['country_area'], \n",
    "           population_2020['country_area']]) \\\n",
    "  .drop_duplicates(keep=False)"
   ]
  },
  {
   "cell_type": "markdown",
   "metadata": {},
   "source": [
    "there is no difference between population and population_density"
   ]
  },
  {
   "cell_type": "code",
   "execution_count": 56,
   "metadata": {},
   "outputs": [
    {
     "data": {
      "text/plain": [
       "39"
      ]
     },
     "execution_count": 56,
     "metadata": {},
     "output_type": "execute_result"
    }
   ],
   "source": [
    "covid_countries = pd.DataFrame(covid['country'].unique())\n",
    "\n",
    "pd.concat([covid_countries[0],\n",
    "           population_2020['country_area']]) \\\n",
    "  .drop_duplicates(keep=False).count()"
   ]
  },
  {
   "cell_type": "code",
   "execution_count": 57,
   "metadata": {},
   "outputs": [],
   "source": [
    "# correcting some country values\n",
    "covid = covid.replace('Côte d’Ivoire', \"Côte d'Ivoire\")\n",
    "covid = covid.replace('The United Kingdom', 'United Kingdom')\n",
    "covid = covid.replace('Northern Mariana Islands (Commonwealth of the)', 'Northern Mariana Islands')\n",
    "\n",
    "population_2020 = population_2020.replace('Saint Martin (French part)', 'Saint Martin')\n",
    "population_2020 = population_2020.replace('Sint Maarten (Dutch part)', 'Sint Maarten')\n",
    "\n",
    "population_density_2020 = population_density_2020.replace('Saint Martin (French part)', 'Saint Martin')\n",
    "population_density_2020 = population_density_2020.replace('Sint Maarten (Dutch part)', 'Sint Maarten')"
   ]
  },
  {
   "cell_type": "code",
   "execution_count": 58,
   "metadata": {},
   "outputs": [
    {
     "data": {
      "text/plain": [
       "43"
      ]
     },
     "execution_count": 58,
     "metadata": {},
     "output_type": "execute_result"
    }
   ],
   "source": [
    "covid_countries = pd.DataFrame(covid['country'].unique())\n",
    "\n",
    "pd.concat([covid_countries[0],\n",
    "           median_age_2020['country_area']]) \\\n",
    "  .drop_duplicates(keep=False).count()"
   ]
  },
  {
   "cell_type": "markdown",
   "metadata": {},
   "source": [
    "There are a lot of countries missing in median_age_2020. It has just 201 observations."
   ]
  },
  {
   "cell_type": "markdown",
   "metadata": {},
   "source": [
    "### Feature Engineering : infected per 1M thousand inhabitants"
   ]
  },
  {
   "cell_type": "code",
   "execution_count": 59,
   "metadata": {
    "scrolled": true
   },
   "outputs": [
    {
     "data": {
      "text/html": [
       "<div>\n",
       "<style scoped>\n",
       "    .dataframe tbody tr th:only-of-type {\n",
       "        vertical-align: middle;\n",
       "    }\n",
       "\n",
       "    .dataframe tbody tr th {\n",
       "        vertical-align: top;\n",
       "    }\n",
       "\n",
       "    .dataframe thead th {\n",
       "        text-align: right;\n",
       "    }\n",
       "</style>\n",
       "<table border=\"1\" class=\"dataframe\">\n",
       "  <thead>\n",
       "    <tr style=\"text-align: right;\">\n",
       "      <th></th>\n",
       "      <th>country</th>\n",
       "      <th>date_reported</th>\n",
       "      <th>new_cases</th>\n",
       "      <th>new_deaths</th>\n",
       "    </tr>\n",
       "  </thead>\n",
       "  <tbody>\n",
       "    <tr>\n",
       "      <th>0</th>\n",
       "      <td>Afghanistan</td>\n",
       "      <td>2020-08-01</td>\n",
       "      <td>36710</td>\n",
       "      <td>1283</td>\n",
       "    </tr>\n",
       "    <tr>\n",
       "      <th>1</th>\n",
       "      <td>Albania</td>\n",
       "      <td>2020-07-31</td>\n",
       "      <td>5197</td>\n",
       "      <td>154</td>\n",
       "    </tr>\n",
       "    <tr>\n",
       "      <th>2</th>\n",
       "      <td>Algeria</td>\n",
       "      <td>2020-07-31</td>\n",
       "      <td>29831</td>\n",
       "      <td>1200</td>\n",
       "    </tr>\n",
       "    <tr>\n",
       "      <th>3</th>\n",
       "      <td>Andorra</td>\n",
       "      <td>2020-07-31</td>\n",
       "      <td>922</td>\n",
       "      <td>52</td>\n",
       "    </tr>\n",
       "    <tr>\n",
       "      <th>4</th>\n",
       "      <td>Angola</td>\n",
       "      <td>2020-07-31</td>\n",
       "      <td>1109</td>\n",
       "      <td>51</td>\n",
       "    </tr>\n",
       "  </tbody>\n",
       "</table>\n",
       "</div>"
      ],
      "text/plain": [
       "       country date_reported  new_cases  new_deaths\n",
       "0  Afghanistan    2020-08-01      36710        1283\n",
       "1      Albania    2020-07-31       5197         154\n",
       "2      Algeria    2020-07-31      29831        1200\n",
       "3      Andorra    2020-07-31        922          52\n",
       "4       Angola    2020-07-31       1109          51"
      ]
     },
     "execution_count": 59,
     "metadata": {},
     "output_type": "execute_result"
    }
   ],
   "source": [
    "covid_total_country = covid.groupby('country')[['new_cases', 'new_deaths']].sum()\n",
    "covid_last_update = covid.groupby('country')[['date_reported']].max()\n",
    "\n",
    "covid_last_total_country = covid_last_update.join(covid_total_country).reset_index()\n",
    "covid_last_total_country.head()"
   ]
  },
  {
   "cell_type": "code",
   "execution_count": 60,
   "metadata": {},
   "outputs": [
    {
     "data": {
      "text/html": [
       "<div>\n",
       "<style scoped>\n",
       "    .dataframe tbody tr th:only-of-type {\n",
       "        vertical-align: middle;\n",
       "    }\n",
       "\n",
       "    .dataframe tbody tr th {\n",
       "        vertical-align: top;\n",
       "    }\n",
       "\n",
       "    .dataframe thead th {\n",
       "        text-align: right;\n",
       "    }\n",
       "</style>\n",
       "<table border=\"1\" class=\"dataframe\">\n",
       "  <thead>\n",
       "    <tr style=\"text-align: right;\">\n",
       "      <th></th>\n",
       "      <th>country</th>\n",
       "      <th>date_reported</th>\n",
       "      <th>new_cases</th>\n",
       "      <th>new_deaths</th>\n",
       "      <th>2020</th>\n",
       "    </tr>\n",
       "  </thead>\n",
       "  <tbody>\n",
       "    <tr>\n",
       "      <th>0</th>\n",
       "      <td>Afghanistan</td>\n",
       "      <td>2020-08-01</td>\n",
       "      <td>36710</td>\n",
       "      <td>1283</td>\n",
       "      <td>38928341</td>\n",
       "    </tr>\n",
       "    <tr>\n",
       "      <th>1</th>\n",
       "      <td>Albania</td>\n",
       "      <td>2020-07-31</td>\n",
       "      <td>5197</td>\n",
       "      <td>154</td>\n",
       "      <td>28778</td>\n",
       "    </tr>\n",
       "    <tr>\n",
       "      <th>2</th>\n",
       "      <td>Algeria</td>\n",
       "      <td>2020-07-31</td>\n",
       "      <td>29831</td>\n",
       "      <td>1200</td>\n",
       "      <td>43851043</td>\n",
       "    </tr>\n",
       "    <tr>\n",
       "      <th>3</th>\n",
       "      <td>Andorra</td>\n",
       "      <td>2020-07-31</td>\n",
       "      <td>922</td>\n",
       "      <td>52</td>\n",
       "      <td>77265</td>\n",
       "    </tr>\n",
       "    <tr>\n",
       "      <th>4</th>\n",
       "      <td>Angola</td>\n",
       "      <td>2020-07-31</td>\n",
       "      <td>1109</td>\n",
       "      <td>51</td>\n",
       "      <td>32866268</td>\n",
       "    </tr>\n",
       "  </tbody>\n",
       "</table>\n",
       "</div>"
      ],
      "text/plain": [
       "       country date_reported  new_cases  new_deaths      2020\n",
       "0  Afghanistan    2020-08-01      36710        1283  38928341\n",
       "1      Albania    2020-07-31       5197         154     28778\n",
       "2      Algeria    2020-07-31      29831        1200  43851043\n",
       "3      Andorra    2020-07-31        922          52     77265\n",
       "4       Angola    2020-07-31       1109          51  32866268"
      ]
     },
     "execution_count": 60,
     "metadata": {},
     "output_type": "execute_result"
    }
   ],
   "source": [
    "covid_total_cd_population = covid_last_total_country \\\n",
    "                                .merge(population_2020, \n",
    "                                       left_on='country', \n",
    "                                       right_on='country_area') \\\n",
    "                                .drop('country_area', axis=1)\n",
    "\n",
    "covid_total_cd_population.head()"
   ]
  },
  {
   "cell_type": "code",
   "execution_count": 61,
   "metadata": {},
   "outputs": [],
   "source": [
    "covid_total_cd_population = \\\n",
    "        covid_total_cd_population.assign(\n",
    "            cases_per_1m_people=\n",
    "                lambda row: round(row['new_cases']*1000000/row['2020'], 2),\n",
    "            deaths_per_1m_people=\n",
    "                lambda row: round(row['new_deaths']*1000000/row['2020'], 2)\n",
    "        )"
   ]
  },
  {
   "cell_type": "code",
   "execution_count": 62,
   "metadata": {},
   "outputs": [
    {
     "data": {
      "text/html": [
       "<div>\n",
       "<style scoped>\n",
       "    .dataframe tbody tr th:only-of-type {\n",
       "        vertical-align: middle;\n",
       "    }\n",
       "\n",
       "    .dataframe tbody tr th {\n",
       "        vertical-align: top;\n",
       "    }\n",
       "\n",
       "    .dataframe thead th {\n",
       "        text-align: right;\n",
       "    }\n",
       "</style>\n",
       "<table border=\"1\" class=\"dataframe\">\n",
       "  <thead>\n",
       "    <tr style=\"text-align: right;\">\n",
       "      <th></th>\n",
       "      <th>country</th>\n",
       "      <th>date_reported</th>\n",
       "      <th>new_cases</th>\n",
       "      <th>new_deaths</th>\n",
       "      <th>2020</th>\n",
       "      <th>cases_per_1m_people</th>\n",
       "      <th>deaths_per_1m_people</th>\n",
       "    </tr>\n",
       "  </thead>\n",
       "  <tbody>\n",
       "    <tr>\n",
       "      <th>0</th>\n",
       "      <td>Afghanistan</td>\n",
       "      <td>2020-08-01</td>\n",
       "      <td>36710</td>\n",
       "      <td>1283</td>\n",
       "      <td>38928341</td>\n",
       "      <td>943.01</td>\n",
       "      <td>32.96</td>\n",
       "    </tr>\n",
       "    <tr>\n",
       "      <th>1</th>\n",
       "      <td>Albania</td>\n",
       "      <td>2020-07-31</td>\n",
       "      <td>5197</td>\n",
       "      <td>154</td>\n",
       "      <td>28778</td>\n",
       "      <td>180589.34</td>\n",
       "      <td>5351.31</td>\n",
       "    </tr>\n",
       "    <tr>\n",
       "      <th>2</th>\n",
       "      <td>Algeria</td>\n",
       "      <td>2020-07-31</td>\n",
       "      <td>29831</td>\n",
       "      <td>1200</td>\n",
       "      <td>43851043</td>\n",
       "      <td>680.28</td>\n",
       "      <td>27.37</td>\n",
       "    </tr>\n",
       "    <tr>\n",
       "      <th>3</th>\n",
       "      <td>Andorra</td>\n",
       "      <td>2020-07-31</td>\n",
       "      <td>922</td>\n",
       "      <td>52</td>\n",
       "      <td>77265</td>\n",
       "      <td>11932.96</td>\n",
       "      <td>673.01</td>\n",
       "    </tr>\n",
       "    <tr>\n",
       "      <th>4</th>\n",
       "      <td>Angola</td>\n",
       "      <td>2020-07-31</td>\n",
       "      <td>1109</td>\n",
       "      <td>51</td>\n",
       "      <td>32866268</td>\n",
       "      <td>33.74</td>\n",
       "      <td>1.55</td>\n",
       "    </tr>\n",
       "  </tbody>\n",
       "</table>\n",
       "</div>"
      ],
      "text/plain": [
       "       country date_reported  new_cases  new_deaths      2020  \\\n",
       "0  Afghanistan    2020-08-01      36710        1283  38928341   \n",
       "1      Albania    2020-07-31       5197         154     28778   \n",
       "2      Algeria    2020-07-31      29831        1200  43851043   \n",
       "3      Andorra    2020-07-31        922          52     77265   \n",
       "4       Angola    2020-07-31       1109          51  32866268   \n",
       "\n",
       "   cases_per_1m_people  deaths_per_1m_people  \n",
       "0               943.01                 32.96  \n",
       "1            180589.34               5351.31  \n",
       "2               680.28                 27.37  \n",
       "3             11932.96                673.01  \n",
       "4                33.74                  1.55  "
      ]
     },
     "execution_count": 62,
     "metadata": {},
     "output_type": "execute_result"
    }
   ],
   "source": [
    "covid_total_cd_population.head()"
   ]
  },
  {
   "cell_type": "markdown",
   "metadata": {},
   "source": [
    "### Merging the datasets"
   ]
  },
  {
   "cell_type": "code",
   "execution_count": 63,
   "metadata": {},
   "outputs": [
    {
     "name": "stdout",
     "output_type": "stream",
     "text": [
      "216\n",
      "201\n",
      "187\n"
     ]
    },
    {
     "data": {
      "text/html": [
       "<div>\n",
       "<style scoped>\n",
       "    .dataframe tbody tr th:only-of-type {\n",
       "        vertical-align: middle;\n",
       "    }\n",
       "\n",
       "    .dataframe tbody tr th {\n",
       "        vertical-align: top;\n",
       "    }\n",
       "\n",
       "    .dataframe thead th {\n",
       "        text-align: right;\n",
       "    }\n",
       "</style>\n",
       "<table border=\"1\" class=\"dataframe\">\n",
       "  <thead>\n",
       "    <tr style=\"text-align: right;\">\n",
       "      <th></th>\n",
       "      <th>date_reported</th>\n",
       "      <th>country_code</th>\n",
       "      <th>country</th>\n",
       "      <th>who_region</th>\n",
       "      <th>new_cases</th>\n",
       "      <th>cumulative_cases</th>\n",
       "      <th>new_deaths</th>\n",
       "      <th>cumulative_deaths</th>\n",
       "      <th>median_age_2020</th>\n",
       "    </tr>\n",
       "  </thead>\n",
       "  <tbody>\n",
       "    <tr>\n",
       "      <th>0</th>\n",
       "      <td>2020-02-24</td>\n",
       "      <td>AF</td>\n",
       "      <td>Afghanistan</td>\n",
       "      <td>EMRO</td>\n",
       "      <td>5</td>\n",
       "      <td>5</td>\n",
       "      <td>0</td>\n",
       "      <td>0</td>\n",
       "      <td>18.438</td>\n",
       "    </tr>\n",
       "    <tr>\n",
       "      <th>1</th>\n",
       "      <td>2020-02-25</td>\n",
       "      <td>AF</td>\n",
       "      <td>Afghanistan</td>\n",
       "      <td>EMRO</td>\n",
       "      <td>0</td>\n",
       "      <td>5</td>\n",
       "      <td>0</td>\n",
       "      <td>0</td>\n",
       "      <td>18.438</td>\n",
       "    </tr>\n",
       "  </tbody>\n",
       "</table>\n",
       "</div>"
      ],
      "text/plain": [
       "  date_reported country_code      country who_region  new_cases  \\\n",
       "0    2020-02-24           AF  Afghanistan       EMRO          5   \n",
       "1    2020-02-25           AF  Afghanistan       EMRO          0   \n",
       "\n",
       "   cumulative_cases  new_deaths  cumulative_deaths median_age_2020  \n",
       "0                 5           0                  0          18.438  \n",
       "1                 5           0                  0          18.438  "
      ]
     },
     "execution_count": 63,
     "metadata": {},
     "output_type": "execute_result"
    }
   ],
   "source": [
    "covid_median_age = covid.merge(median_age_2020, \n",
    "                               left_on='country', \n",
    "                               right_on='country_area') \\\n",
    "                        .drop('country_area', axis=1) \\\n",
    "                        .rename(columns={'2020': 'median_age_2020'})\n",
    "\n",
    "print(covid['country'].nunique())\n",
    "print(median_age_2020['country_area'].nunique())\n",
    "print(covid_median_age['country'].nunique())\n",
    "covid_median_age.head(2)"
   ]
  },
  {
   "cell_type": "code",
   "execution_count": 64,
   "metadata": {},
   "outputs": [
    {
     "name": "stdout",
     "output_type": "stream",
     "text": [
      "216\n",
      "187\n",
      "187\n"
     ]
    },
    {
     "data": {
      "text/html": [
       "<div>\n",
       "<style scoped>\n",
       "    .dataframe tbody tr th:only-of-type {\n",
       "        vertical-align: middle;\n",
       "    }\n",
       "\n",
       "    .dataframe tbody tr th {\n",
       "        vertical-align: top;\n",
       "    }\n",
       "\n",
       "    .dataframe thead th {\n",
       "        text-align: right;\n",
       "    }\n",
       "</style>\n",
       "<table border=\"1\" class=\"dataframe\">\n",
       "  <thead>\n",
       "    <tr style=\"text-align: right;\">\n",
       "      <th></th>\n",
       "      <th>date_reported</th>\n",
       "      <th>country_code</th>\n",
       "      <th>country</th>\n",
       "      <th>who_region</th>\n",
       "      <th>new_cases</th>\n",
       "      <th>cumulative_cases</th>\n",
       "      <th>new_deaths</th>\n",
       "      <th>cumulative_deaths</th>\n",
       "      <th>median_age_2020</th>\n",
       "      <th>population_density_2020</th>\n",
       "    </tr>\n",
       "  </thead>\n",
       "  <tbody>\n",
       "    <tr>\n",
       "      <th>0</th>\n",
       "      <td>2020-02-24</td>\n",
       "      <td>AF</td>\n",
       "      <td>Afghanistan</td>\n",
       "      <td>EMRO</td>\n",
       "      <td>5</td>\n",
       "      <td>5</td>\n",
       "      <td>0</td>\n",
       "      <td>0</td>\n",
       "      <td>18.438</td>\n",
       "      <td>59.627395</td>\n",
       "    </tr>\n",
       "    <tr>\n",
       "      <th>1</th>\n",
       "      <td>2020-02-25</td>\n",
       "      <td>AF</td>\n",
       "      <td>Afghanistan</td>\n",
       "      <td>EMRO</td>\n",
       "      <td>0</td>\n",
       "      <td>5</td>\n",
       "      <td>0</td>\n",
       "      <td>0</td>\n",
       "      <td>18.438</td>\n",
       "      <td>59.627395</td>\n",
       "    </tr>\n",
       "  </tbody>\n",
       "</table>\n",
       "</div>"
      ],
      "text/plain": [
       "  date_reported country_code      country who_region  new_cases  \\\n",
       "0    2020-02-24           AF  Afghanistan       EMRO          5   \n",
       "1    2020-02-25           AF  Afghanistan       EMRO          0   \n",
       "\n",
       "   cumulative_cases  new_deaths  cumulative_deaths median_age_2020  \\\n",
       "0                 5           0                  0          18.438   \n",
       "1                 5           0                  0          18.438   \n",
       "\n",
       "   population_density_2020  \n",
       "0                59.627395  \n",
       "1                59.627395  "
      ]
     },
     "execution_count": 64,
     "metadata": {},
     "output_type": "execute_result"
    }
   ],
   "source": [
    "covid_median_age_pop_density = covid_median_age.merge(population_density_2020, \n",
    "                                                      left_on='country', \n",
    "                                                      right_on='country_area') \\\n",
    "                                               .drop('country_area', axis=1) \\\n",
    "                                               .rename(columns={'2020': 'population_density_2020'})\n",
    "    \n",
    "print(covid['country'].nunique())\n",
    "print(covid_median_age['country'].nunique())\n",
    "print(covid_median_age_pop_density['country'].nunique())\n",
    "covid_median_age_pop_density.head(2)"
   ]
  },
  {
   "cell_type": "code",
   "execution_count": 65,
   "metadata": {},
   "outputs": [
    {
     "name": "stdout",
     "output_type": "stream",
     "text": [
      "216\n",
      "187\n",
      "187\n",
      "187\n"
     ]
    },
    {
     "data": {
      "text/html": [
       "<div>\n",
       "<style scoped>\n",
       "    .dataframe tbody tr th:only-of-type {\n",
       "        vertical-align: middle;\n",
       "    }\n",
       "\n",
       "    .dataframe tbody tr th {\n",
       "        vertical-align: top;\n",
       "    }\n",
       "\n",
       "    .dataframe thead th {\n",
       "        text-align: right;\n",
       "    }\n",
       "</style>\n",
       "<table border=\"1\" class=\"dataframe\">\n",
       "  <thead>\n",
       "    <tr style=\"text-align: right;\">\n",
       "      <th></th>\n",
       "      <th>date_reported</th>\n",
       "      <th>country_code</th>\n",
       "      <th>country</th>\n",
       "      <th>who_region</th>\n",
       "      <th>new_cases</th>\n",
       "      <th>cumulative_cases</th>\n",
       "      <th>new_deaths</th>\n",
       "      <th>cumulative_deaths</th>\n",
       "      <th>median_age_2020</th>\n",
       "      <th>population_density_2020</th>\n",
       "      <th>population_2020</th>\n",
       "      <th>cases_per_1m_people</th>\n",
       "      <th>deaths_per_1m_people</th>\n",
       "    </tr>\n",
       "  </thead>\n",
       "  <tbody>\n",
       "    <tr>\n",
       "      <th>0</th>\n",
       "      <td>2020-08-01</td>\n",
       "      <td>AF</td>\n",
       "      <td>Afghanistan</td>\n",
       "      <td>EMRO</td>\n",
       "      <td>168</td>\n",
       "      <td>36710</td>\n",
       "      <td>12</td>\n",
       "      <td>1283</td>\n",
       "      <td>18.438</td>\n",
       "      <td>59.627395</td>\n",
       "      <td>38928341</td>\n",
       "      <td>943.01</td>\n",
       "      <td>32.96</td>\n",
       "    </tr>\n",
       "    <tr>\n",
       "      <th>1</th>\n",
       "      <td>2020-07-31</td>\n",
       "      <td>AL</td>\n",
       "      <td>Albania</td>\n",
       "      <td>EURO</td>\n",
       "      <td>92</td>\n",
       "      <td>5197</td>\n",
       "      <td>4</td>\n",
       "      <td>154</td>\n",
       "      <td>36.399</td>\n",
       "      <td>105.029197</td>\n",
       "      <td>28778</td>\n",
       "      <td>180589.34</td>\n",
       "      <td>5351.31</td>\n",
       "    </tr>\n",
       "  </tbody>\n",
       "</table>\n",
       "</div>"
      ],
      "text/plain": [
       "  date_reported country_code      country who_region  new_cases  \\\n",
       "0    2020-08-01           AF  Afghanistan       EMRO        168   \n",
       "1    2020-07-31           AL      Albania       EURO         92   \n",
       "\n",
       "   cumulative_cases  new_deaths  cumulative_deaths median_age_2020  \\\n",
       "0             36710          12               1283          18.438   \n",
       "1              5197           4                154          36.399   \n",
       "\n",
       "   population_density_2020  population_2020  cases_per_1m_people  \\\n",
       "0                59.627395         38928341               943.01   \n",
       "1               105.029197            28778            180589.34   \n",
       "\n",
       "   deaths_per_1m_people  \n",
       "0                 32.96  \n",
       "1               5351.31  "
      ]
     },
     "execution_count": 65,
     "metadata": {},
     "output_type": "execute_result"
    }
   ],
   "source": [
    "covid_all = covid_median_age_pop_density \\\n",
    "                    .merge(covid_total_cd_population.drop(['new_cases', 'new_deaths'], axis=1), \n",
    "                           on=['country', 'date_reported']) \\\n",
    "                    .rename(columns={'2020': 'population_2020'})\n",
    "\n",
    "print(covid['country'].nunique())\n",
    "print(covid_median_age['country'].nunique())\n",
    "print(covid_median_age_pop_density['country'].nunique())\n",
    "print(covid_all['country'].nunique())\n",
    "covid_all.head(2)"
   ]
  },
  {
   "cell_type": "code",
   "execution_count": 66,
   "metadata": {},
   "outputs": [],
   "source": [
    "covid_all = covid_all.drop(['cumulative_cases', \n",
    "                            'cumulative_deaths', \n",
    "                            'population_2020'], axis=1)"
   ]
  },
  {
   "cell_type": "code",
   "execution_count": 67,
   "metadata": {},
   "outputs": [
    {
     "data": {
      "text/html": [
       "<div>\n",
       "<style scoped>\n",
       "    .dataframe tbody tr th:only-of-type {\n",
       "        vertical-align: middle;\n",
       "    }\n",
       "\n",
       "    .dataframe tbody tr th {\n",
       "        vertical-align: top;\n",
       "    }\n",
       "\n",
       "    .dataframe thead th {\n",
       "        text-align: right;\n",
       "    }\n",
       "</style>\n",
       "<table border=\"1\" class=\"dataframe\">\n",
       "  <thead>\n",
       "    <tr style=\"text-align: right;\">\n",
       "      <th></th>\n",
       "      <th>date_reported</th>\n",
       "      <th>country_code</th>\n",
       "      <th>country</th>\n",
       "      <th>who_region</th>\n",
       "      <th>new_cases</th>\n",
       "      <th>new_deaths</th>\n",
       "      <th>median_age_2020</th>\n",
       "      <th>population_density_2020</th>\n",
       "      <th>cases_per_1m_people</th>\n",
       "      <th>deaths_per_1m_people</th>\n",
       "    </tr>\n",
       "  </thead>\n",
       "  <tbody>\n",
       "    <tr>\n",
       "      <th>0</th>\n",
       "      <td>2020-08-01</td>\n",
       "      <td>AF</td>\n",
       "      <td>Afghanistan</td>\n",
       "      <td>EMRO</td>\n",
       "      <td>168</td>\n",
       "      <td>12</td>\n",
       "      <td>18.438</td>\n",
       "      <td>59.627395</td>\n",
       "      <td>943.01</td>\n",
       "      <td>32.96</td>\n",
       "    </tr>\n",
       "    <tr>\n",
       "      <th>1</th>\n",
       "      <td>2020-07-31</td>\n",
       "      <td>AL</td>\n",
       "      <td>Albania</td>\n",
       "      <td>EURO</td>\n",
       "      <td>92</td>\n",
       "      <td>4</td>\n",
       "      <td>36.399</td>\n",
       "      <td>105.029197</td>\n",
       "      <td>180589.34</td>\n",
       "      <td>5351.31</td>\n",
       "    </tr>\n",
       "    <tr>\n",
       "      <th>2</th>\n",
       "      <td>2020-07-31</td>\n",
       "      <td>DZ</td>\n",
       "      <td>Algeria</td>\n",
       "      <td>AFRO</td>\n",
       "      <td>602</td>\n",
       "      <td>14</td>\n",
       "      <td>28.521</td>\n",
       "      <td>18.411348</td>\n",
       "      <td>680.28</td>\n",
       "      <td>27.37</td>\n",
       "    </tr>\n",
       "    <tr>\n",
       "      <th>3</th>\n",
       "      <td>2020-07-31</td>\n",
       "      <td>AO</td>\n",
       "      <td>Angola</td>\n",
       "      <td>AFRO</td>\n",
       "      <td>31</td>\n",
       "      <td>3</td>\n",
       "      <td>16.677</td>\n",
       "      <td>26.362612</td>\n",
       "      <td>33.74</td>\n",
       "      <td>1.55</td>\n",
       "    </tr>\n",
       "    <tr>\n",
       "      <th>4</th>\n",
       "      <td>2020-08-01</td>\n",
       "      <td>AG</td>\n",
       "      <td>Antigua and Barbuda</td>\n",
       "      <td>AMRO</td>\n",
       "      <td>0</td>\n",
       "      <td>0</td>\n",
       "      <td>33.976</td>\n",
       "      <td>222.563636</td>\n",
       "      <td>929.25</td>\n",
       "      <td>30.63</td>\n",
       "    </tr>\n",
       "  </tbody>\n",
       "</table>\n",
       "</div>"
      ],
      "text/plain": [
       "  date_reported country_code              country who_region  new_cases  \\\n",
       "0    2020-08-01           AF          Afghanistan       EMRO        168   \n",
       "1    2020-07-31           AL              Albania       EURO         92   \n",
       "2    2020-07-31           DZ              Algeria       AFRO        602   \n",
       "3    2020-07-31           AO               Angola       AFRO         31   \n",
       "4    2020-08-01           AG  Antigua and Barbuda       AMRO          0   \n",
       "\n",
       "   new_deaths median_age_2020  population_density_2020  cases_per_1m_people  \\\n",
       "0          12          18.438                59.627395               943.01   \n",
       "1           4          36.399               105.029197            180589.34   \n",
       "2          14          28.521                18.411348               680.28   \n",
       "3           3          16.677                26.362612                33.74   \n",
       "4           0          33.976               222.563636               929.25   \n",
       "\n",
       "   deaths_per_1m_people  \n",
       "0                 32.96  \n",
       "1               5351.31  \n",
       "2                 27.37  \n",
       "3                  1.55  \n",
       "4                 30.63  "
      ]
     },
     "execution_count": 67,
     "metadata": {},
     "output_type": "execute_result"
    }
   ],
   "source": [
    "covid_all.head()"
   ]
  },
  {
   "cell_type": "code",
   "execution_count": 68,
   "metadata": {},
   "outputs": [
    {
     "data": {
      "text/html": [
       "<div>\n",
       "<style scoped>\n",
       "    .dataframe tbody tr th:only-of-type {\n",
       "        vertical-align: middle;\n",
       "    }\n",
       "\n",
       "    .dataframe tbody tr th {\n",
       "        vertical-align: top;\n",
       "    }\n",
       "\n",
       "    .dataframe thead th {\n",
       "        text-align: right;\n",
       "    }\n",
       "</style>\n",
       "<table border=\"1\" class=\"dataframe\">\n",
       "  <thead>\n",
       "    <tr style=\"text-align: right;\">\n",
       "      <th></th>\n",
       "      <th>new_cases</th>\n",
       "      <th>new_deaths</th>\n",
       "      <th>population_density_2020</th>\n",
       "      <th>cases_per_1m_people</th>\n",
       "      <th>deaths_per_1m_people</th>\n",
       "    </tr>\n",
       "  </thead>\n",
       "  <tbody>\n",
       "    <tr>\n",
       "      <th>new_cases</th>\n",
       "      <td>1.000000</td>\n",
       "      <td>0.944964</td>\n",
       "      <td>-0.015229</td>\n",
       "      <td>0.000180</td>\n",
       "      <td>0.022832</td>\n",
       "    </tr>\n",
       "    <tr>\n",
       "      <th>new_deaths</th>\n",
       "      <td>0.944964</td>\n",
       "      <td>1.000000</td>\n",
       "      <td>-0.036670</td>\n",
       "      <td>0.003427</td>\n",
       "      <td>0.038764</td>\n",
       "    </tr>\n",
       "    <tr>\n",
       "      <th>population_density_2020</th>\n",
       "      <td>-0.015229</td>\n",
       "      <td>-0.036670</td>\n",
       "      <td>1.000000</td>\n",
       "      <td>-0.008199</td>\n",
       "      <td>-0.042883</td>\n",
       "    </tr>\n",
       "    <tr>\n",
       "      <th>cases_per_1m_people</th>\n",
       "      <td>0.000180</td>\n",
       "      <td>0.003427</td>\n",
       "      <td>-0.008199</td>\n",
       "      <td>1.000000</td>\n",
       "      <td>0.594334</td>\n",
       "    </tr>\n",
       "    <tr>\n",
       "      <th>deaths_per_1m_people</th>\n",
       "      <td>0.022832</td>\n",
       "      <td>0.038764</td>\n",
       "      <td>-0.042883</td>\n",
       "      <td>0.594334</td>\n",
       "      <td>1.000000</td>\n",
       "    </tr>\n",
       "  </tbody>\n",
       "</table>\n",
       "</div>"
      ],
      "text/plain": [
       "                         new_cases  new_deaths  population_density_2020  \\\n",
       "new_cases                 1.000000    0.944964                -0.015229   \n",
       "new_deaths                0.944964    1.000000                -0.036670   \n",
       "population_density_2020  -0.015229   -0.036670                 1.000000   \n",
       "cases_per_1m_people       0.000180    0.003427                -0.008199   \n",
       "deaths_per_1m_people      0.022832    0.038764                -0.042883   \n",
       "\n",
       "                         cases_per_1m_people  deaths_per_1m_people  \n",
       "new_cases                           0.000180              0.022832  \n",
       "new_deaths                          0.003427              0.038764  \n",
       "population_density_2020            -0.008199             -0.042883  \n",
       "cases_per_1m_people                 1.000000              0.594334  \n",
       "deaths_per_1m_people                0.594334              1.000000  "
      ]
     },
     "execution_count": 68,
     "metadata": {},
     "output_type": "execute_result"
    }
   ],
   "source": [
    "covid_all.corr()"
   ]
  },
  {
   "cell_type": "code",
   "execution_count": 69,
   "metadata": {},
   "outputs": [
    {
     "data": {
      "image/png": "[encoded data removed]",
      "text/plain": [
       "<Figure size 432x288 with 2 Axes>"
      ]
     },
     "metadata": {
      "needs_background": "light"
     },
     "output_type": "display_data"
    }
   ],
   "source": [
    "sns.heatmap(covid_all.corr(), cmap=\"YlGnBu\")\n",
    "plt.show()"
   ]
  },
  {
   "cell_type": "markdown",
   "metadata": {},
   "source": [
    "# Questions"
   ]
  },
  {
   "cell_type": "markdown",
   "metadata": {},
   "source": [
    "## 1. When the covid will stop being a pandemic?\n",
    "## 2. Next month will there be a new epicenter?\n",
    "\n",
    "<br>\n",
    "<br>\n",
    "in these two cases <br>\n",
    "\n",
    "- we need define: \n",
    "    - how we'll consider a country as an epicenter\n",
    "    - what's a pandemic? when we consider that there is no more pandemic?\n",
    "    \n",
    "- we'll work on predicting the number of cases in the future."
   ]
  },
  {
   "cell_type": "code",
   "execution_count": null,
   "metadata": {},
   "outputs": [],
   "source": []
  }
 ],
 "metadata": {
  "kernelspec": {
   "display_name": "Python 3",
   "language": "python",
   "name": "python3"
  },
  "language_info": {
   "codemirror_mode": {
    "name": "ipython",
    "version": 3
   },
   "file_extension": ".py",
   "mimetype": "text/x-python",
   "name": "python",
   "nbconvert_exporter": "python",
   "pygments_lexer": "ipython3",
   "version": "3.6.9"
  }
 },
 "nbformat": 4,
 "nbformat_minor": 2
}
